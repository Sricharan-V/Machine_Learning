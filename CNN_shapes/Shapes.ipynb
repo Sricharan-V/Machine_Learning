{
 "cells": [
  {
   "cell_type": "code",
   "execution_count": 1,
   "id": "40b77af6",
   "metadata": {},
   "outputs": [],
   "source": [
    "import warnings\n",
    "warnings.filterwarnings(action='ignore')"
   ]
  },
  {
   "cell_type": "code",
   "execution_count": 2,
   "id": "2e6190de",
   "metadata": {},
   "outputs": [
    {
     "name": "stdout",
     "output_type": "stream",
     "text": [
      "WARNING:tensorflow:From C:\\Users\\V SRICHARAN\\anaconda3\\Lib\\site-packages\\keras\\src\\losses.py:2976: The name tf.losses.sparse_softmax_cross_entropy is deprecated. Please use tf.compat.v1.losses.sparse_softmax_cross_entropy instead.\n",
      "\n"
     ]
    }
   ],
   "source": [
    "from tensorflow.keras.optimizers import Adam\n",
    "from tensorflow.keras.models import Sequential\n",
    "from tensorflow.keras.layers import Conv2D, MaxPooling2D, Flatten, Dense, Dropout\n",
    "from tensorflow.keras.preprocessing.image import ImageDataGenerator\n",
    "from sklearn.metrics import accuracy_score\n",
    "from tensorflow.keras.callbacks import EarlyStopping\n",
    "import matplotlib.pyplot as plt"
   ]
  },
  {
   "cell_type": "code",
   "execution_count": 3,
   "id": "2669d01d",
   "metadata": {},
   "outputs": [],
   "source": [
    "datagen = ImageDataGenerator(\n",
    "    rescale=1./255, \n",
    "    validation_split=0.2,\n",
    "    rotation_range=20,  # Randomly rotate images by up to 20 degrees\n",
    "    width_shift_range=0.2,  # Randomly shift images horizontally\n",
    "    height_shift_range=0.2,  # Randomly shift images vertically\n",
    "    shear_range=0.2,  # Randomly apply shearing transformation\n",
    "    zoom_range=0.2,  # Randomly zoom inside images\n",
    "    horizontal_flip=True  # Randomly flip images horizontally\n",
    ")"
   ]
  },
  {
   "cell_type": "code",
   "execution_count": 4,
   "id": "3ee9c8c8",
   "metadata": {},
   "outputs": [
    {
     "name": "stdout",
     "output_type": "stream",
     "text": [
      "Found 240 images belonging to 3 classes.\n",
      "Found 60 images belonging to 3 classes.\n"
     ]
    }
   ],
   "source": [
    "train_generator = datagen.flow_from_directory(\n",
    "    directory='shapes',  \n",
    "    target_size=(28, 28),\n",
    "    batch_size=32,\n",
    "    class_mode='categorical',\n",
    "    subset='training',\n",
    "    shuffle=True,\n",
    "    seed=42\n",
    ")\n",
    "\n",
    "test_generator = datagen.flow_from_directory(\n",
    "    directory='shapes',\n",
    "    target_size=(28, 28),\n",
    "    batch_size=32,\n",
    "    class_mode='categorical',\n",
    "    subset='validation',\n",
    "    shuffle=True,\n",
    "    seed=42\n",
    ")"
   ]
  },
  {
   "cell_type": "code",
   "execution_count": 21,
   "id": "ea63c37f",
   "metadata": {},
   "outputs": [
    {
     "data": {
      "text/plain": [
       "array([[[[1.        , 1.        , 1.        ],\n",
       "         [1.        , 1.        , 1.        ],\n",
       "         [1.        , 1.        , 1.        ],\n",
       "         ...,\n",
       "         [1.        , 1.        , 1.        ],\n",
       "         [1.        , 1.        , 1.        ],\n",
       "         [1.        , 1.        , 1.        ]],\n",
       "\n",
       "        [[1.        , 1.        , 1.        ],\n",
       "         [1.        , 1.        , 1.        ],\n",
       "         [1.        , 1.        , 1.        ],\n",
       "         ...,\n",
       "         [1.        , 1.        , 1.        ],\n",
       "         [1.        , 1.        , 1.        ],\n",
       "         [1.        , 1.        , 1.        ]],\n",
       "\n",
       "        [[1.        , 1.        , 1.        ],\n",
       "         [1.        , 1.        , 1.        ],\n",
       "         [1.        , 1.        , 1.        ],\n",
       "         ...,\n",
       "         [1.        , 1.        , 1.        ],\n",
       "         [1.        , 1.        , 1.        ],\n",
       "         [1.        , 1.        , 1.        ]],\n",
       "\n",
       "        ...,\n",
       "\n",
       "        [[1.        , 1.        , 1.        ],\n",
       "         [1.        , 1.        , 1.        ],\n",
       "         [1.        , 1.        , 1.        ],\n",
       "         ...,\n",
       "         [1.        , 1.        , 1.        ],\n",
       "         [1.        , 1.        , 1.        ],\n",
       "         [1.        , 1.        , 1.        ]],\n",
       "\n",
       "        [[1.        , 1.        , 1.        ],\n",
       "         [1.        , 1.        , 1.        ],\n",
       "         [1.        , 1.        , 1.        ],\n",
       "         ...,\n",
       "         [1.        , 1.        , 1.        ],\n",
       "         [1.        , 1.        , 1.        ],\n",
       "         [1.        , 1.        , 1.        ]],\n",
       "\n",
       "        [[1.        , 1.        , 1.        ],\n",
       "         [1.        , 1.        , 1.        ],\n",
       "         [1.        , 1.        , 1.        ],\n",
       "         ...,\n",
       "         [1.        , 1.        , 1.        ],\n",
       "         [1.        , 1.        , 1.        ],\n",
       "         [1.        , 1.        , 1.        ]]],\n",
       "\n",
       "\n",
       "       [[[1.        , 1.        , 1.        ],\n",
       "         [1.        , 1.        , 1.        ],\n",
       "         [1.        , 1.        , 1.        ],\n",
       "         ...,\n",
       "         [1.        , 1.        , 1.        ],\n",
       "         [1.        , 1.        , 1.        ],\n",
       "         [1.        , 1.        , 1.        ]],\n",
       "\n",
       "        [[1.        , 1.        , 1.        ],\n",
       "         [1.        , 1.        , 1.        ],\n",
       "         [1.        , 1.        , 1.        ],\n",
       "         ...,\n",
       "         [1.        , 1.        , 1.        ],\n",
       "         [1.        , 1.        , 1.        ],\n",
       "         [1.        , 1.        , 1.        ]],\n",
       "\n",
       "        [[1.        , 1.        , 1.        ],\n",
       "         [1.        , 1.        , 1.        ],\n",
       "         [1.        , 1.        , 1.        ],\n",
       "         ...,\n",
       "         [1.        , 1.        , 1.        ],\n",
       "         [1.        , 1.        , 1.        ],\n",
       "         [1.        , 1.        , 1.        ]],\n",
       "\n",
       "        ...,\n",
       "\n",
       "        [[1.        , 1.        , 1.        ],\n",
       "         [0.98771083, 0.98771083, 0.98771083],\n",
       "         [0.9233328 , 0.9233328 , 0.9233328 ],\n",
       "         ...,\n",
       "         [1.        , 1.        , 1.        ],\n",
       "         [1.        , 1.        , 1.        ],\n",
       "         [1.        , 1.        , 1.        ]],\n",
       "\n",
       "        [[1.        , 1.        , 1.        ],\n",
       "         [0.99979264, 0.99979264, 0.99979264],\n",
       "         [0.99876595, 0.99876595, 0.99876595],\n",
       "         ...,\n",
       "         [1.        , 1.        , 1.        ],\n",
       "         [1.        , 1.        , 1.        ],\n",
       "         [1.        , 1.        , 1.        ]],\n",
       "\n",
       "        [[1.        , 1.        , 1.        ],\n",
       "         [1.        , 1.        , 1.        ],\n",
       "         [1.        , 1.        , 1.        ],\n",
       "         ...,\n",
       "         [1.        , 1.        , 1.        ],\n",
       "         [1.        , 1.        , 1.        ],\n",
       "         [1.        , 1.        , 1.        ]]],\n",
       "\n",
       "\n",
       "       [[[1.        , 1.        , 1.        ],\n",
       "         [1.        , 1.        , 1.        ],\n",
       "         [1.        , 1.        , 1.        ],\n",
       "         ...,\n",
       "         [1.        , 1.        , 1.        ],\n",
       "         [1.        , 1.        , 1.        ],\n",
       "         [1.        , 1.        , 1.        ]],\n",
       "\n",
       "        [[1.        , 1.        , 1.        ],\n",
       "         [1.        , 1.        , 1.        ],\n",
       "         [1.        , 1.        , 1.        ],\n",
       "         ...,\n",
       "         [1.        , 1.        , 1.        ],\n",
       "         [1.        , 1.        , 1.        ],\n",
       "         [1.        , 1.        , 1.        ]],\n",
       "\n",
       "        [[1.        , 1.        , 1.        ],\n",
       "         [1.        , 1.        , 1.        ],\n",
       "         [1.        , 1.        , 1.        ],\n",
       "         ...,\n",
       "         [1.        , 1.        , 1.        ],\n",
       "         [1.        , 1.        , 1.        ],\n",
       "         [1.        , 1.        , 1.        ]],\n",
       "\n",
       "        ...,\n",
       "\n",
       "        [[0.99786764, 0.99786764, 0.99786764],\n",
       "         [0.907864  , 0.907864  , 0.907864  ],\n",
       "         [0.4625027 , 0.4625027 , 0.4625027 ],\n",
       "         ...,\n",
       "         [1.        , 1.        , 1.        ],\n",
       "         [1.        , 1.        , 1.        ],\n",
       "         [1.        , 1.        , 1.        ]],\n",
       "\n",
       "        [[1.        , 1.        , 1.        ],\n",
       "         [0.8693167 , 0.8693167 , 0.8693167 ],\n",
       "         [0.30590916, 0.30590916, 0.30590916],\n",
       "         ...,\n",
       "         [1.        , 1.        , 1.        ],\n",
       "         [1.        , 1.        , 1.        ],\n",
       "         [1.        , 1.        , 1.        ]],\n",
       "\n",
       "        [[1.        , 1.        , 1.        ],\n",
       "         [0.8556049 , 0.8556049 , 0.8556049 ],\n",
       "         [0.58295405, 0.58295405, 0.58295405],\n",
       "         ...,\n",
       "         [1.        , 1.        , 1.        ],\n",
       "         [1.        , 1.        , 1.        ],\n",
       "         [1.        , 1.        , 1.        ]]],\n",
       "\n",
       "\n",
       "       ...,\n",
       "\n",
       "\n",
       "       [[[1.        , 1.        , 1.        ],\n",
       "         [1.        , 1.        , 1.        ],\n",
       "         [1.        , 1.        , 1.        ],\n",
       "         ...,\n",
       "         [1.        , 1.        , 1.        ],\n",
       "         [1.        , 1.        , 1.        ],\n",
       "         [1.        , 1.        , 1.        ]],\n",
       "\n",
       "        [[1.        , 1.        , 1.        ],\n",
       "         [1.        , 1.        , 1.        ],\n",
       "         [1.        , 1.        , 1.        ],\n",
       "         ...,\n",
       "         [1.        , 1.        , 1.        ],\n",
       "         [1.        , 1.        , 1.        ],\n",
       "         [1.        , 1.        , 1.        ]],\n",
       "\n",
       "        [[1.        , 1.        , 1.        ],\n",
       "         [1.        , 1.        , 1.        ],\n",
       "         [1.        , 1.        , 1.        ],\n",
       "         ...,\n",
       "         [1.        , 1.        , 1.        ],\n",
       "         [1.        , 1.        , 1.        ],\n",
       "         [1.        , 1.        , 1.        ]],\n",
       "\n",
       "        ...,\n",
       "\n",
       "        [[1.        , 1.        , 1.        ],\n",
       "         [1.        , 1.        , 1.        ],\n",
       "         [1.        , 1.        , 1.        ],\n",
       "         ...,\n",
       "         [1.        , 1.        , 1.        ],\n",
       "         [1.        , 1.        , 1.        ],\n",
       "         [1.        , 1.        , 1.        ]],\n",
       "\n",
       "        [[1.        , 1.        , 1.        ],\n",
       "         [1.        , 1.        , 1.        ],\n",
       "         [1.        , 1.        , 1.        ],\n",
       "         ...,\n",
       "         [1.        , 1.        , 1.        ],\n",
       "         [1.        , 1.        , 1.        ],\n",
       "         [1.        , 1.        , 1.        ]],\n",
       "\n",
       "        [[1.        , 1.        , 1.        ],\n",
       "         [1.        , 1.        , 1.        ],\n",
       "         [1.        , 1.        , 1.        ],\n",
       "         ...,\n",
       "         [1.        , 1.        , 1.        ],\n",
       "         [1.        , 1.        , 1.        ],\n",
       "         [1.        , 1.        , 1.        ]]],\n",
       "\n",
       "\n",
       "       [[[1.        , 1.        , 1.        ],\n",
       "         [1.        , 1.        , 1.        ],\n",
       "         [1.        , 1.        , 1.        ],\n",
       "         ...,\n",
       "         [1.        , 1.        , 1.        ],\n",
       "         [1.        , 1.        , 1.        ],\n",
       "         [1.        , 1.        , 1.        ]],\n",
       "\n",
       "        [[1.        , 1.        , 1.        ],\n",
       "         [1.        , 1.        , 1.        ],\n",
       "         [1.        , 1.        , 1.        ],\n",
       "         ...,\n",
       "         [1.        , 1.        , 1.        ],\n",
       "         [1.        , 1.        , 1.        ],\n",
       "         [1.        , 1.        , 1.        ]],\n",
       "\n",
       "        [[1.        , 1.        , 1.        ],\n",
       "         [1.        , 1.        , 1.        ],\n",
       "         [1.        , 1.        , 1.        ],\n",
       "         ...,\n",
       "         [1.        , 1.        , 1.        ],\n",
       "         [1.        , 1.        , 1.        ],\n",
       "         [1.        , 1.        , 1.        ]],\n",
       "\n",
       "        ...,\n",
       "\n",
       "        [[1.        , 1.        , 1.        ],\n",
       "         [1.        , 1.        , 1.        ],\n",
       "         [1.        , 1.        , 1.        ],\n",
       "         ...,\n",
       "         [1.        , 1.        , 1.        ],\n",
       "         [1.        , 1.        , 1.        ],\n",
       "         [1.        , 1.        , 1.        ]],\n",
       "\n",
       "        [[1.        , 1.        , 1.        ],\n",
       "         [1.        , 1.        , 1.        ],\n",
       "         [1.        , 1.        , 1.        ],\n",
       "         ...,\n",
       "         [1.        , 1.        , 1.        ],\n",
       "         [1.        , 1.        , 1.        ],\n",
       "         [1.        , 1.        , 1.        ]],\n",
       "\n",
       "        [[1.        , 1.        , 1.        ],\n",
       "         [1.        , 1.        , 1.        ],\n",
       "         [1.        , 1.        , 1.        ],\n",
       "         ...,\n",
       "         [1.        , 1.        , 1.        ],\n",
       "         [1.        , 1.        , 1.        ],\n",
       "         [1.        , 1.        , 1.        ]]],\n",
       "\n",
       "\n",
       "       [[[1.        , 1.        , 1.        ],\n",
       "         [1.        , 1.        , 1.        ],\n",
       "         [1.        , 1.        , 1.        ],\n",
       "         ...,\n",
       "         [1.        , 1.        , 1.        ],\n",
       "         [1.        , 1.        , 1.        ],\n",
       "         [1.        , 1.        , 1.        ]],\n",
       "\n",
       "        [[1.        , 1.        , 1.        ],\n",
       "         [1.        , 1.        , 1.        ],\n",
       "         [1.        , 1.        , 1.        ],\n",
       "         ...,\n",
       "         [1.        , 1.        , 1.        ],\n",
       "         [1.        , 1.        , 1.        ],\n",
       "         [1.        , 1.        , 1.        ]],\n",
       "\n",
       "        [[1.        , 1.        , 1.        ],\n",
       "         [1.        , 1.        , 1.        ],\n",
       "         [1.        , 1.        , 1.        ],\n",
       "         ...,\n",
       "         [1.        , 1.        , 1.        ],\n",
       "         [1.        , 1.        , 1.        ],\n",
       "         [1.        , 1.        , 1.        ]],\n",
       "\n",
       "        ...,\n",
       "\n",
       "        [[1.        , 1.        , 1.        ],\n",
       "         [1.        , 1.        , 1.        ],\n",
       "         [1.        , 1.        , 1.        ],\n",
       "         ...,\n",
       "         [1.        , 1.        , 1.        ],\n",
       "         [1.        , 1.        , 1.        ],\n",
       "         [1.        , 1.        , 1.        ]],\n",
       "\n",
       "        [[1.        , 1.        , 1.        ],\n",
       "         [1.        , 1.        , 1.        ],\n",
       "         [1.        , 1.        , 1.        ],\n",
       "         ...,\n",
       "         [1.        , 1.        , 1.        ],\n",
       "         [1.        , 1.        , 1.        ],\n",
       "         [1.        , 1.        , 1.        ]],\n",
       "\n",
       "        [[1.        , 1.        , 1.        ],\n",
       "         [1.        , 1.        , 1.        ],\n",
       "         [1.        , 1.        , 1.        ],\n",
       "         ...,\n",
       "         [1.        , 1.        , 1.        ],\n",
       "         [1.        , 1.        , 1.        ],\n",
       "         [1.        , 1.        , 1.        ]]]], dtype=float32)"
      ]
     },
     "execution_count": 21,
     "metadata": {},
     "output_type": "execute_result"
    }
   ],
   "source": [
    "train_generator[0][0]"
   ]
  },
  {
   "cell_type": "code",
   "execution_count": null,
   "id": "3482dd80",
   "metadata": {},
   "outputs": [],
   "source": []
  },
  {
   "cell_type": "code",
   "execution_count": null,
   "id": "474b2e00",
   "metadata": {},
   "outputs": [],
   "source": []
  },
  {
   "cell_type": "code",
   "execution_count": 5,
   "id": "3062e3dd",
   "metadata": {},
   "outputs": [
    {
     "name": "stdout",
     "output_type": "stream",
     "text": [
      "WARNING:tensorflow:From C:\\Users\\V SRICHARAN\\anaconda3\\Lib\\site-packages\\keras\\src\\backend.py:873: The name tf.get_default_graph is deprecated. Please use tf.compat.v1.get_default_graph instead.\n",
      "\n"
     ]
    }
   ],
   "source": [
    "nn_model = Sequential([\n",
    "    Flatten(),\n",
    "    Dense(256, activation='relu'),\n",
    "    Dense(128, activation='relu'),\n",
    "    Dense(64, activation='relu'),\n",
    "    Dense(3, activation='softmax')\n",
    "])"
   ]
  },
  {
   "cell_type": "code",
   "execution_count": 6,
   "id": "7a4a9514",
   "metadata": {},
   "outputs": [
    {
     "name": "stdout",
     "output_type": "stream",
     "text": [
      "WARNING:tensorflow:From C:\\Users\\V SRICHARAN\\anaconda3\\Lib\\site-packages\\keras\\src\\layers\\pooling\\max_pooling2d.py:161: The name tf.nn.max_pool is deprecated. Please use tf.nn.max_pool2d instead.\n",
      "\n"
     ]
    }
   ],
   "source": [
    "model = Sequential([\n",
    "    Conv2D(32, (3, 3), input_shape=(28, 28, 3), activation='relu'),\n",
    "    MaxPooling2D(2, 2),\n",
    "    Conv2D(64, (3, 3), activation='relu'),\n",
    "    MaxPooling2D(2, 2),\n",
    "    Conv2D(128, (3, 3), activation='relu'),\n",
    "    \n",
    "    Flatten(),\n",
    "    Dense(256, activation='relu'),\n",
    "    Dropout(0.5),\n",
    "    Dense(128, activation='relu'),\n",
    "    Dense(3, activation='softmax')\n",
    "])"
   ]
  },
  {
   "cell_type": "code",
   "execution_count": 11,
   "id": "a1a9fcc3",
   "metadata": {},
   "outputs": [],
   "source": [
    "nn_model.compile(optimizer='adam', metrics = ['accuracy'], loss='categorical_crossentropy')"
   ]
  },
  {
   "cell_type": "code",
   "execution_count": 12,
   "id": "a5c6c27d",
   "metadata": {},
   "outputs": [
    {
     "ename": "ValueError",
     "evalue": "This model has not yet been built. Build the model first by calling `build()` or by calling the model on a batch of data.",
     "output_type": "error",
     "traceback": [
      "\u001b[1;31m---------------------------------------------------------------------------\u001b[0m",
      "\u001b[1;31mValueError\u001b[0m                                Traceback (most recent call last)",
      "Cell \u001b[1;32mIn[12], line 1\u001b[0m\n\u001b[1;32m----> 1\u001b[0m nn_model\u001b[38;5;241m.\u001b[39msummary()\n",
      "File \u001b[1;32m~\\anaconda3\\Lib\\site-packages\\keras\\src\\engine\\training.py:3506\u001b[0m, in \u001b[0;36mModel.summary\u001b[1;34m(self, line_length, positions, print_fn, expand_nested, show_trainable, layer_range)\u001b[0m\n\u001b[0;32m   3475\u001b[0m \u001b[38;5;250m\u001b[39m\u001b[38;5;124;03m\"\"\"Prints a string summary of the network.\u001b[39;00m\n\u001b[0;32m   3476\u001b[0m \n\u001b[0;32m   3477\u001b[0m \u001b[38;5;124;03mArgs:\u001b[39;00m\n\u001b[1;32m   (...)\u001b[0m\n\u001b[0;32m   3503\u001b[0m \u001b[38;5;124;03m    ValueError: if `summary()` is called before the model is built.\u001b[39;00m\n\u001b[0;32m   3504\u001b[0m \u001b[38;5;124;03m\"\"\"\u001b[39;00m\n\u001b[0;32m   3505\u001b[0m \u001b[38;5;28;01mif\u001b[39;00m \u001b[38;5;129;01mnot\u001b[39;00m \u001b[38;5;28mself\u001b[39m\u001b[38;5;241m.\u001b[39mbuilt:\n\u001b[1;32m-> 3506\u001b[0m     \u001b[38;5;28;01mraise\u001b[39;00m \u001b[38;5;167;01mValueError\u001b[39;00m(\n\u001b[0;32m   3507\u001b[0m         \u001b[38;5;124m\"\u001b[39m\u001b[38;5;124mThis model has not yet been built. \u001b[39m\u001b[38;5;124m\"\u001b[39m\n\u001b[0;32m   3508\u001b[0m         \u001b[38;5;124m\"\u001b[39m\u001b[38;5;124mBuild the model first by calling `build()` or by calling \u001b[39m\u001b[38;5;124m\"\u001b[39m\n\u001b[0;32m   3509\u001b[0m         \u001b[38;5;124m\"\u001b[39m\u001b[38;5;124mthe model on a batch of data.\u001b[39m\u001b[38;5;124m\"\u001b[39m\n\u001b[0;32m   3510\u001b[0m     )\n\u001b[0;32m   3511\u001b[0m layer_utils\u001b[38;5;241m.\u001b[39mprint_summary(\n\u001b[0;32m   3512\u001b[0m     \u001b[38;5;28mself\u001b[39m,\n\u001b[0;32m   3513\u001b[0m     line_length\u001b[38;5;241m=\u001b[39mline_length,\n\u001b[1;32m   (...)\u001b[0m\n\u001b[0;32m   3518\u001b[0m     layer_range\u001b[38;5;241m=\u001b[39mlayer_range,\n\u001b[0;32m   3519\u001b[0m )\n",
      "\u001b[1;31mValueError\u001b[0m: This model has not yet been built. Build the model first by calling `build()` or by calling the model on a batch of data."
     ]
    }
   ],
   "source": [
    "nn_model.summary()"
   ]
  },
  {
   "cell_type": "code",
   "execution_count": 13,
   "id": "ce9d482c",
   "metadata": {
    "scrolled": true
   },
   "outputs": [
    {
     "name": "stdout",
     "output_type": "stream",
     "text": [
      "Epoch 1/99\n",
      "8/8 [==============================] - 1s 66ms/step - loss: 1.3600 - accuracy: 0.3958 - val_loss: 1.3311 - val_accuracy: 0.3333\n",
      "Epoch 2/99\n",
      "8/8 [==============================] - 0s 40ms/step - loss: 1.2577 - accuracy: 0.3458 - val_loss: 1.4063 - val_accuracy: 0.3667\n",
      "Epoch 3/99\n",
      "8/8 [==============================] - 0s 40ms/step - loss: 1.2764 - accuracy: 0.3250 - val_loss: 1.3155 - val_accuracy: 0.3333\n",
      "Epoch 4/99\n",
      "8/8 [==============================] - 0s 41ms/step - loss: 1.2458 - accuracy: 0.3292 - val_loss: 1.1296 - val_accuracy: 0.3333\n",
      "Epoch 5/99\n",
      "8/8 [==============================] - 0s 37ms/step - loss: 1.1512 - accuracy: 0.2917 - val_loss: 1.1068 - val_accuracy: 0.3667\n",
      "Epoch 6/99\n",
      "8/8 [==============================] - 0s 41ms/step - loss: 1.1242 - accuracy: 0.3292 - val_loss: 1.1399 - val_accuracy: 0.3333\n",
      "Epoch 7/99\n",
      "8/8 [==============================] - 0s 39ms/step - loss: 1.1169 - accuracy: 0.3292 - val_loss: 1.1165 - val_accuracy: 0.3333\n",
      "Epoch 8/99\n",
      "8/8 [==============================] - 0s 39ms/step - loss: 1.1735 - accuracy: 0.3375 - val_loss: 1.2233 - val_accuracy: 0.3333\n",
      "Epoch 9/99\n",
      "8/8 [==============================] - 0s 40ms/step - loss: 1.1754 - accuracy: 0.3917 - val_loss: 1.1563 - val_accuracy: 0.3333\n",
      "Epoch 10/99\n",
      "8/8 [==============================] - 0s 40ms/step - loss: 1.1484 - accuracy: 0.3042 - val_loss: 1.1022 - val_accuracy: 0.3333\n",
      "Epoch 11/99\n",
      "8/8 [==============================] - 0s 38ms/step - loss: 1.1021 - accuracy: 0.3667 - val_loss: 1.0975 - val_accuracy: 0.3500\n",
      "Epoch 12/99\n",
      "8/8 [==============================] - 0s 41ms/step - loss: 1.1129 - accuracy: 0.3375 - val_loss: 1.0977 - val_accuracy: 0.3667\n",
      "Epoch 13/99\n",
      "8/8 [==============================] - 0s 39ms/step - loss: 1.1002 - accuracy: 0.3458 - val_loss: 1.1486 - val_accuracy: 0.3333\n",
      "Epoch 14/99\n",
      "8/8 [==============================] - 0s 39ms/step - loss: 1.1645 - accuracy: 0.2917 - val_loss: 1.0915 - val_accuracy: 0.3333\n",
      "Epoch 15/99\n",
      "8/8 [==============================] - 0s 40ms/step - loss: 1.1171 - accuracy: 0.3125 - val_loss: 1.1306 - val_accuracy: 0.3333\n",
      "Epoch 16/99\n",
      "8/8 [==============================] - 0s 38ms/step - loss: 1.1905 - accuracy: 0.3208 - val_loss: 1.1014 - val_accuracy: 0.3333\n",
      "Epoch 17/99\n",
      "8/8 [==============================] - 0s 40ms/step - loss: 1.1255 - accuracy: 0.3625 - val_loss: 1.0976 - val_accuracy: 0.4167\n",
      "Epoch 18/99\n",
      "8/8 [==============================] - 0s 42ms/step - loss: 1.1062 - accuracy: 0.3708 - val_loss: 1.1386 - val_accuracy: 0.3333\n",
      "Epoch 19/99\n",
      "8/8 [==============================] - 0s 41ms/step - loss: 1.1511 - accuracy: 0.3000 - val_loss: 1.1274 - val_accuracy: 0.3333\n",
      "Epoch 20/99\n",
      "8/8 [==============================] - 0s 41ms/step - loss: 1.1106 - accuracy: 0.3167 - val_loss: 1.1070 - val_accuracy: 0.3333\n",
      "Epoch 21/99\n",
      "8/8 [==============================] - 0s 40ms/step - loss: 1.1179 - accuracy: 0.3125 - val_loss: 1.1010 - val_accuracy: 0.3333\n",
      "Epoch 22/99\n",
      "8/8 [==============================] - 0s 42ms/step - loss: 1.1234 - accuracy: 0.3292 - val_loss: 1.0924 - val_accuracy: 0.3500\n",
      "Epoch 23/99\n",
      "8/8 [==============================] - 0s 41ms/step - loss: 1.1145 - accuracy: 0.3250 - val_loss: 1.0991 - val_accuracy: 0.3333\n",
      "Epoch 24/99\n",
      "8/8 [==============================] - 0s 42ms/step - loss: 1.1204 - accuracy: 0.2917 - val_loss: 1.0983 - val_accuracy: 0.3500\n",
      "Epoch 25/99\n",
      "8/8 [==============================] - 0s 39ms/step - loss: 1.1311 - accuracy: 0.3000 - val_loss: 1.1073 - val_accuracy: 0.3167\n",
      "Epoch 26/99\n",
      "8/8 [==============================] - 0s 38ms/step - loss: 1.1353 - accuracy: 0.3458 - val_loss: 1.1588 - val_accuracy: 0.3333\n",
      "Epoch 27/99\n",
      "8/8 [==============================] - 0s 40ms/step - loss: 1.1243 - accuracy: 0.3083 - val_loss: 1.0997 - val_accuracy: 0.3167\n",
      "Epoch 28/99\n",
      "8/8 [==============================] - 0s 39ms/step - loss: 1.1012 - accuracy: 0.3458 - val_loss: 1.0883 - val_accuracy: 0.3333\n",
      "Epoch 29/99\n",
      "8/8 [==============================] - 0s 40ms/step - loss: 1.0974 - accuracy: 0.3708 - val_loss: 1.1060 - val_accuracy: 0.3333\n",
      "Epoch 30/99\n",
      "8/8 [==============================] - 0s 40ms/step - loss: 1.1153 - accuracy: 0.3083 - val_loss: 1.1055 - val_accuracy: 0.3333\n",
      "Epoch 31/99\n",
      "8/8 [==============================] - 0s 45ms/step - loss: 1.0923 - accuracy: 0.3542 - val_loss: 1.0935 - val_accuracy: 0.3667\n",
      "Epoch 32/99\n",
      "8/8 [==============================] - 1s 65ms/step - loss: 1.0999 - accuracy: 0.3292 - val_loss: 1.0845 - val_accuracy: 0.4167\n",
      "Epoch 33/99\n",
      "8/8 [==============================] - 0s 60ms/step - loss: 1.1124 - accuracy: 0.4000 - val_loss: 1.1074 - val_accuracy: 0.3333\n",
      "Epoch 34/99\n",
      "8/8 [==============================] - 0s 56ms/step - loss: 1.1318 - accuracy: 0.3125 - val_loss: 1.0962 - val_accuracy: 0.3333\n",
      "Epoch 35/99\n",
      "8/8 [==============================] - 0s 51ms/step - loss: 1.1376 - accuracy: 0.3417 - val_loss: 1.0908 - val_accuracy: 0.3833\n",
      "Epoch 36/99\n",
      "8/8 [==============================] - 0s 63ms/step - loss: 1.1246 - accuracy: 0.3042 - val_loss: 1.1011 - val_accuracy: 0.3500\n",
      "Epoch 37/99\n",
      "8/8 [==============================] - 0s 45ms/step - loss: 1.1042 - accuracy: 0.3125 - val_loss: 1.0991 - val_accuracy: 0.3333\n",
      "Epoch 38/99\n",
      "8/8 [==============================] - 0s 42ms/step - loss: 1.1002 - accuracy: 0.3542 - val_loss: 1.0939 - val_accuracy: 0.3333\n",
      "Epoch 39/99\n",
      "8/8 [==============================] - 0s 40ms/step - loss: 1.1044 - accuracy: 0.3542 - val_loss: 1.0984 - val_accuracy: 0.4500\n",
      "Epoch 40/99\n",
      "8/8 [==============================] - 0s 36ms/step - loss: 1.1201 - accuracy: 0.3083 - val_loss: 1.0907 - val_accuracy: 0.3333\n",
      "Epoch 41/99\n",
      "8/8 [==============================] - 0s 42ms/step - loss: 1.1032 - accuracy: 0.3583 - val_loss: 1.1011 - val_accuracy: 0.5167\n",
      "Epoch 42/99\n",
      "8/8 [==============================] - 0s 39ms/step - loss: 1.1176 - accuracy: 0.3167 - val_loss: 1.1027 - val_accuracy: 0.3333\n",
      "Epoch 43/99\n",
      "8/8 [==============================] - 0s 38ms/step - loss: 1.1011 - accuracy: 0.3208 - val_loss: 1.0949 - val_accuracy: 0.3500\n",
      "Epoch 44/99\n",
      "8/8 [==============================] - 0s 39ms/step - loss: 1.1061 - accuracy: 0.3125 - val_loss: 1.0975 - val_accuracy: 0.3500\n",
      "Epoch 45/99\n",
      "8/8 [==============================] - 0s 38ms/step - loss: 1.1003 - accuracy: 0.3667 - val_loss: 1.0949 - val_accuracy: 0.3333\n",
      "Epoch 46/99\n",
      "8/8 [==============================] - 0s 36ms/step - loss: 1.0948 - accuracy: 0.3375 - val_loss: 1.0943 - val_accuracy: 0.3500\n",
      "Epoch 47/99\n",
      "8/8 [==============================] - 0s 41ms/step - loss: 1.0989 - accuracy: 0.3333 - val_loss: 1.0959 - val_accuracy: 0.3833\n",
      "Epoch 48/99\n",
      "8/8 [==============================] - 0s 38ms/step - loss: 1.0998 - accuracy: 0.3208 - val_loss: 1.0967 - val_accuracy: 0.3167\n",
      "Epoch 49/99\n",
      "8/8 [==============================] - 0s 38ms/step - loss: 1.1005 - accuracy: 0.3667 - val_loss: 1.0935 - val_accuracy: 0.4333\n",
      "Epoch 50/99\n",
      "8/8 [==============================] - 0s 38ms/step - loss: 1.0968 - accuracy: 0.3583 - val_loss: 1.0884 - val_accuracy: 0.3333\n",
      "Epoch 51/99\n",
      "8/8 [==============================] - 0s 39ms/step - loss: 1.0937 - accuracy: 0.3708 - val_loss: 1.0870 - val_accuracy: 0.3833\n",
      "Epoch 52/99\n",
      "8/8 [==============================] - 0s 37ms/step - loss: 1.0918 - accuracy: 0.3375 - val_loss: 1.0885 - val_accuracy: 0.3333\n",
      "Epoch 53/99\n",
      "8/8 [==============================] - 0s 37ms/step - loss: 1.1137 - accuracy: 0.2958 - val_loss: 1.1134 - val_accuracy: 0.3333\n",
      "Epoch 54/99\n",
      "8/8 [==============================] - 0s 37ms/step - loss: 1.1254 - accuracy: 0.3333 - val_loss: 1.1031 - val_accuracy: 0.3333\n",
      "Epoch 55/99\n",
      "8/8 [==============================] - 0s 46ms/step - loss: 1.1051 - accuracy: 0.3333 - val_loss: 1.1020 - val_accuracy: 0.3500\n",
      "Epoch 56/99\n",
      "8/8 [==============================] - 0s 49ms/step - loss: 1.1215 - accuracy: 0.3708 - val_loss: 1.1193 - val_accuracy: 0.3333\n",
      "Epoch 57/99\n",
      "8/8 [==============================] - 0s 41ms/step - loss: 1.1367 - accuracy: 0.3083 - val_loss: 1.0988 - val_accuracy: 0.3333\n",
      "Epoch 58/99\n",
      "8/8 [==============================] - 0s 41ms/step - loss: 1.1030 - accuracy: 0.3250 - val_loss: 1.0998 - val_accuracy: 0.3333\n",
      "Epoch 59/99\n"
     ]
    },
    {
     "name": "stdout",
     "output_type": "stream",
     "text": [
      "8/8 [==============================] - 0s 40ms/step - loss: 1.1004 - accuracy: 0.3625 - val_loss: 1.0957 - val_accuracy: 0.3833\n",
      "Epoch 60/99\n",
      "8/8 [==============================] - 0s 40ms/step - loss: 1.0992 - accuracy: 0.4042 - val_loss: 1.1111 - val_accuracy: 0.3167\n",
      "Epoch 61/99\n",
      "8/8 [==============================] - 0s 46ms/step - loss: 1.1036 - accuracy: 0.3375 - val_loss: 1.0931 - val_accuracy: 0.4000\n",
      "Epoch 62/99\n",
      "8/8 [==============================] - 0s 38ms/step - loss: 1.1074 - accuracy: 0.3167 - val_loss: 1.0955 - val_accuracy: 0.3333\n",
      "Epoch 63/99\n",
      "8/8 [==============================] - 0s 42ms/step - loss: 1.0997 - accuracy: 0.4292 - val_loss: 1.1112 - val_accuracy: 0.3333\n",
      "Epoch 64/99\n",
      "8/8 [==============================] - 0s 42ms/step - loss: 1.1141 - accuracy: 0.3167 - val_loss: 1.0912 - val_accuracy: 0.4500\n",
      "Epoch 65/99\n",
      "8/8 [==============================] - 0s 41ms/step - loss: 1.1023 - accuracy: 0.3625 - val_loss: 1.0987 - val_accuracy: 0.3333\n",
      "Epoch 66/99\n",
      "8/8 [==============================] - 0s 40ms/step - loss: 1.1020 - accuracy: 0.3333 - val_loss: 1.1033 - val_accuracy: 0.3333\n",
      "Epoch 67/99\n",
      "8/8 [==============================] - 0s 50ms/step - loss: 1.1058 - accuracy: 0.3125 - val_loss: 1.0950 - val_accuracy: 0.4167\n",
      "Epoch 68/99\n",
      "8/8 [==============================] - 0s 42ms/step - loss: 1.1058 - accuracy: 0.3250 - val_loss: 1.1044 - val_accuracy: 0.4333\n",
      "Epoch 69/99\n",
      "8/8 [==============================] - 0s 47ms/step - loss: 1.1068 - accuracy: 0.3125 - val_loss: 1.0951 - val_accuracy: 0.3333\n",
      "Epoch 70/99\n",
      "8/8 [==============================] - 0s 45ms/step - loss: 1.1113 - accuracy: 0.2875 - val_loss: 1.1045 - val_accuracy: 0.3333\n",
      "Epoch 71/99\n",
      "8/8 [==============================] - 0s 48ms/step - loss: 1.1018 - accuracy: 0.3333 - val_loss: 1.0987 - val_accuracy: 0.2500\n",
      "Epoch 72/99\n",
      "8/8 [==============================] - 0s 44ms/step - loss: 1.0993 - accuracy: 0.3292 - val_loss: 1.1028 - val_accuracy: 0.3333\n",
      "Epoch 73/99\n",
      "8/8 [==============================] - 0s 43ms/step - loss: 1.1054 - accuracy: 0.2917 - val_loss: 1.1208 - val_accuracy: 0.3333\n",
      "Epoch 74/99\n",
      "8/8 [==============================] - 0s 43ms/step - loss: 1.1023 - accuracy: 0.3500 - val_loss: 1.1051 - val_accuracy: 0.3333\n",
      "Epoch 75/99\n",
      "8/8 [==============================] - 0s 40ms/step - loss: 1.0982 - accuracy: 0.3250 - val_loss: 1.0903 - val_accuracy: 0.3333\n",
      "Epoch 76/99\n",
      "8/8 [==============================] - 0s 41ms/step - loss: 1.0888 - accuracy: 0.3667 - val_loss: 1.0689 - val_accuracy: 0.4833\n",
      "Epoch 77/99\n",
      "8/8 [==============================] - 0s 43ms/step - loss: 1.0862 - accuracy: 0.4167 - val_loss: 1.0849 - val_accuracy: 0.4333\n",
      "Epoch 78/99\n",
      "8/8 [==============================] - 0s 40ms/step - loss: 1.0921 - accuracy: 0.3917 - val_loss: 1.0929 - val_accuracy: 0.3333\n",
      "Epoch 79/99\n",
      "8/8 [==============================] - 0s 37ms/step - loss: 1.0820 - accuracy: 0.4125 - val_loss: 1.1285 - val_accuracy: 0.3333\n",
      "Epoch 80/99\n",
      "8/8 [==============================] - 0s 46ms/step - loss: 1.1402 - accuracy: 0.3333 - val_loss: 1.0986 - val_accuracy: 0.3167\n",
      "Epoch 81/99\n",
      "8/8 [==============================] - 0s 45ms/step - loss: 1.0924 - accuracy: 0.3708 - val_loss: 1.0851 - val_accuracy: 0.4333\n",
      "Epoch 82/99\n",
      "8/8 [==============================] - 0s 52ms/step - loss: 1.1012 - accuracy: 0.3125 - val_loss: 1.1048 - val_accuracy: 0.3333\n",
      "Epoch 83/99\n",
      "8/8 [==============================] - 0s 43ms/step - loss: 1.1061 - accuracy: 0.3333 - val_loss: 1.1010 - val_accuracy: 0.3333\n",
      "Epoch 84/99\n",
      "8/8 [==============================] - 1s 83ms/step - loss: 1.1109 - accuracy: 0.3333 - val_loss: 1.0984 - val_accuracy: 0.3333\n",
      "Epoch 85/99\n",
      "8/8 [==============================] - 0s 40ms/step - loss: 1.0995 - accuracy: 0.3208 - val_loss: 1.0989 - val_accuracy: 0.2333\n",
      "Epoch 86/99\n",
      "8/8 [==============================] - 0s 50ms/step - loss: 1.1102 - accuracy: 0.2583 - val_loss: 1.0993 - val_accuracy: 0.3333\n",
      "Epoch 87/99\n",
      "8/8 [==============================] - 0s 54ms/step - loss: 1.1003 - accuracy: 0.3417 - val_loss: 1.0981 - val_accuracy: 0.3333\n",
      "Epoch 88/99\n",
      "8/8 [==============================] - 0s 53ms/step - loss: 1.0992 - accuracy: 0.3375 - val_loss: 1.0959 - val_accuracy: 0.3833\n",
      "Epoch 89/99\n",
      "8/8 [==============================] - 0s 42ms/step - loss: 1.1000 - accuracy: 0.3542 - val_loss: 1.1012 - val_accuracy: 0.3333\n",
      "Epoch 90/99\n",
      "8/8 [==============================] - 0s 45ms/step - loss: 1.1011 - accuracy: 0.3250 - val_loss: 1.0993 - val_accuracy: 0.3167\n",
      "Epoch 91/99\n",
      "8/8 [==============================] - 0s 42ms/step - loss: 1.1039 - accuracy: 0.3125 - val_loss: 1.0981 - val_accuracy: 0.4333\n",
      "Epoch 92/99\n",
      "8/8 [==============================] - 1s 120ms/step - loss: 1.1017 - accuracy: 0.3208 - val_loss: 1.1007 - val_accuracy: 0.3333\n",
      "Epoch 93/99\n",
      "8/8 [==============================] - 1s 97ms/step - loss: 1.1030 - accuracy: 0.3333 - val_loss: 1.0994 - val_accuracy: 0.3333\n",
      "Epoch 94/99\n",
      "8/8 [==============================] - 0s 47ms/step - loss: 1.0989 - accuracy: 0.3583 - val_loss: 1.0993 - val_accuracy: 0.3333\n",
      "Epoch 95/99\n",
      "8/8 [==============================] - 0s 48ms/step - loss: 1.1002 - accuracy: 0.3333 - val_loss: 1.1017 - val_accuracy: 0.3333\n",
      "Epoch 96/99\n",
      "8/8 [==============================] - 0s 46ms/step - loss: 1.1005 - accuracy: 0.3333 - val_loss: 1.0985 - val_accuracy: 0.3333\n",
      "Epoch 97/99\n",
      "8/8 [==============================] - 0s 52ms/step - loss: 1.1049 - accuracy: 0.2958 - val_loss: 1.0987 - val_accuracy: 0.3333\n",
      "Epoch 98/99\n",
      "8/8 [==============================] - 0s 43ms/step - loss: 1.1056 - accuracy: 0.3042 - val_loss: 1.1012 - val_accuracy: 0.3333\n",
      "Epoch 99/99\n",
      "8/8 [==============================] - 0s 43ms/step - loss: 1.0996 - accuracy: 0.3333 - val_loss: 1.0969 - val_accuracy: 0.3333\n"
     ]
    },
    {
     "data": {
      "text/plain": [
       "<keras.src.callbacks.History at 0x20f44952150>"
      ]
     },
     "execution_count": 13,
     "metadata": {},
     "output_type": "execute_result"
    }
   ],
   "source": [
    "nn_model.fit(train_generator, epochs=99, validation_data=test_generator)"
   ]
  },
  {
   "cell_type": "code",
   "execution_count": 10,
   "id": "30bec5d0",
   "metadata": {
    "scrolled": false
   },
   "outputs": [
    {
     "name": "stdout",
     "output_type": "stream",
     "text": [
      "2/2 [==============================] - 0s 29ms/step\n",
      "True Label: 0\n",
      "Predicted Label: 1\n"
     ]
    },
    {
     "data": {
      "image/png": "[encoded data removed]",
      "text/plain": [
       "<Figure size 640x480 with 1 Axes>"
      ]
     },
     "metadata": {},
     "output_type": "display_data"
    },
    {
     "name": "stdout",
     "output_type": "stream",
     "text": [
      "True Label: 0\n",
      "Predicted Label: 1\n"
     ]
    },
    {
     "data": {
      "image/png": "[encoded data removed]",
      "text/plain": [
       "<Figure size 640x480 with 1 Axes>"
      ]
     },
     "metadata": {},
     "output_type": "display_data"
    },
    {
     "name": "stdout",
     "output_type": "stream",
     "text": [
      "True Label: 0\n",
      "Predicted Label: 1\n"
     ]
    },
    {
     "data": {
      "image/png": "[encoded data removed]",
      "text/plain": [
       "<Figure size 640x480 with 1 Axes>"
      ]
     },
     "metadata": {},
     "output_type": "display_data"
    },
    {
     "name": "stdout",
     "output_type": "stream",
     "text": [
      "True Label: 0\n",
      "Predicted Label: 1\n"
     ]
    },
    {
     "data": {
      "image/png": "[encoded data removed]",
      "text/plain": [
       "<Figure size 640x480 with 1 Axes>"
      ]
     },
     "metadata": {},
     "output_type": "display_data"
    },
    {
     "name": "stdout",
     "output_type": "stream",
     "text": [
      "True Label: 0\n",
      "Predicted Label: 0\n"
     ]
    },
    {
     "data": {
      "image/png": "[encoded data removed]",
      "text/plain": [
       "<Figure size 640x480 with 1 Axes>"
      ]
     },
     "metadata": {},
     "output_type": "display_data"
    },
    {
     "name": "stdout",
     "output_type": "stream",
     "text": [
      "True Label: 0\n",
      "Predicted Label: 0\n"
     ]
    },
    {
     "data": {
      "image/png": "[encoded data removed]",
      "text/plain": [
       "<Figure size 640x480 with 1 Axes>"
      ]
     },
     "metadata": {},
     "output_type": "display_data"
    },
    {
     "name": "stdout",
     "output_type": "stream",
     "text": [
      "True Label: 0\n",
      "Predicted Label: 2\n"
     ]
    },
    {
     "data": {
      "image/png": "[encoded data removed]",
      "text/plain": [
       "<Figure size 640x480 with 1 Axes>"
      ]
     },
     "metadata": {},
     "output_type": "display_data"
    },
    {
     "name": "stdout",
     "output_type": "stream",
     "text": [
      "True Label: 0\n",
      "Predicted Label: 1\n"
     ]
    },
    {
     "data": {
      "image/png": "[encoded data removed]",
      "text/plain": [
       "<Figure size 640x480 with 1 Axes>"
      ]
     },
     "metadata": {},
     "output_type": "display_data"
    },
    {
     "name": "stdout",
     "output_type": "stream",
     "text": [
      "True Label: 0\n",
      "Predicted Label: 1\n"
     ]
    },
    {
     "data": {
      "image/png": "[encoded data removed]",
      "text/plain": [
       "<Figure size 640x480 with 1 Axes>"
      ]
     },
     "metadata": {},
     "output_type": "display_data"
    },
    {
     "name": "stdout",
     "output_type": "stream",
     "text": [
      "True Label: 0\n",
      "Predicted Label: 1\n"
     ]
    },
    {
     "data": {
      "image/png": "[encoded data removed]",
      "text/plain": [
       "<Figure size 640x480 with 1 Axes>"
      ]
     },
     "metadata": {},
     "output_type": "display_data"
    },
    {
     "name": "stdout",
     "output_type": "stream",
     "text": [
      "True Label: 0\n",
      "Predicted Label: 1\n"
     ]
    },
    {
     "data": {
      "image/png": "[encoded data removed]",
      "text/plain": [
       "<Figure size 640x480 with 1 Axes>"
      ]
     },
     "metadata": {},
     "output_type": "display_data"
    },
    {
     "name": "stdout",
     "output_type": "stream",
     "text": [
      "True Label: 0\n",
      "Predicted Label: 0\n"
     ]
    },
    {
     "data": {
      "image/png": "[encoded data removed]",
      "text/plain": [
       "<Figure size 640x480 with 1 Axes>"
      ]
     },
     "metadata": {},
     "output_type": "display_data"
    },
    {
     "name": "stdout",
     "output_type": "stream",
     "text": [
      "True Label: 0\n",
      "Predicted Label: 1\n"
     ]
    },
    {
     "data": {
      "image/png": "[encoded data removed]",
      "text/plain": [
       "<Figure size 640x480 with 1 Axes>"
      ]
     },
     "metadata": {},
     "output_type": "display_data"
    },
    {
     "name": "stdout",
     "output_type": "stream",
     "text": [
      "True Label: 0\n",
      "Predicted Label: 2\n"
     ]
    },
    {
     "data": {
      "image/png": "[encoded data removed]",
      "text/plain": [
       "<Figure size 640x480 with 1 Axes>"
      ]
     },
     "metadata": {},
     "output_type": "display_data"
    },
    {
     "name": "stdout",
     "output_type": "stream",
     "text": [
      "True Label: 0\n",
      "Predicted Label: 0\n"
     ]
    },
    {
     "data": {
      "image/png": "[encoded data removed]",
      "text/plain": [
       "<Figure size 640x480 with 1 Axes>"
      ]
     },
     "metadata": {},
     "output_type": "display_data"
    },
    {
     "name": "stdout",
     "output_type": "stream",
     "text": [
      "True Label: 0\n",
      "Predicted Label: 2\n"
     ]
    },
    {
     "data": {
      "image/png": "[encoded data removed]",
      "text/plain": [
       "<Figure size 640x480 with 1 Axes>"
      ]
     },
     "metadata": {},
     "output_type": "display_data"
    },
    {
     "name": "stdout",
     "output_type": "stream",
     "text": [
      "True Label: 0\n",
      "Predicted Label: 2\n"
     ]
    },
    {
     "data": {
      "image/png": "[encoded data removed]",
      "text/plain": [
       "<Figure size 640x480 with 1 Axes>"
      ]
     },
     "metadata": {},
     "output_type": "display_data"
    },
    {
     "name": "stdout",
     "output_type": "stream",
     "text": [
      "True Label: 0\n",
      "Predicted Label: 1\n"
     ]
    },
    {
     "data": {
      "image/png": "[encoded data removed]",
      "text/plain": [
       "<Figure size 640x480 with 1 Axes>"
      ]
     },
     "metadata": {},
     "output_type": "display_data"
    },
    {
     "name": "stdout",
     "output_type": "stream",
     "text": [
      "True Label: 0\n",
      "Predicted Label: 0\n"
     ]
    },
    {
     "data": {
      "image/png": "[encoded data removed]",
      "text/plain": [
       "<Figure size 640x480 with 1 Axes>"
      ]
     },
     "metadata": {},
     "output_type": "display_data"
    },
    {
     "name": "stdout",
     "output_type": "stream",
     "text": [
      "True Label: 0\n",
      "Predicted Label: 2\n"
     ]
    },
    {
     "data": {
      "image/png": "[encoded data removed]",
      "text/plain": [
       "<Figure size 640x480 with 1 Axes>"
      ]
     },
     "metadata": {},
     "output_type": "display_data"
    },
    {
     "name": "stdout",
     "output_type": "stream",
     "text": [
      "True Label: 1\n",
      "Predicted Label: 2\n"
     ]
    },
    {
     "data": {
      "image/png": "[encoded data removed]",
      "text/plain": [
       "<Figure size 640x480 with 1 Axes>"
      ]
     },
     "metadata": {},
     "output_type": "display_data"
    },
    {
     "name": "stdout",
     "output_type": "stream",
     "text": [
      "True Label: 1\n",
      "Predicted Label: 1\n"
     ]
    },
    {
     "data": {
      "image/png": "[encoded data removed]",
      "text/plain": [
       "<Figure size 640x480 with 1 Axes>"
      ]
     },
     "metadata": {},
     "output_type": "display_data"
    },
    {
     "name": "stdout",
     "output_type": "stream",
     "text": [
      "True Label: 1\n",
      "Predicted Label: 0\n"
     ]
    },
    {
     "data": {
      "image/png": "[encoded data removed]",
      "text/plain": [
       "<Figure size 640x480 with 1 Axes>"
      ]
     },
     "metadata": {},
     "output_type": "display_data"
    },
    {
     "name": "stdout",
     "output_type": "stream",
     "text": [
      "True Label: 1\n",
      "Predicted Label: 0\n"
     ]
    },
    {
     "data": {
      "image/png": "[encoded data removed]",
      "text/plain": [
       "<Figure size 640x480 with 1 Axes>"
      ]
     },
     "metadata": {},
     "output_type": "display_data"
    },
    {
     "name": "stdout",
     "output_type": "stream",
     "text": [
      "True Label: 1\n",
      "Predicted Label: 1\n"
     ]
    },
    {
     "data": {
      "image/png": "[encoded data removed]",
      "text/plain": [
       "<Figure size 640x480 with 1 Axes>"
      ]
     },
     "metadata": {},
     "output_type": "display_data"
    },
    {
     "name": "stdout",
     "output_type": "stream",
     "text": [
      "True Label: 1\n",
      "Predicted Label: 0\n"
     ]
    },
    {
     "data": {
      "image/png": "[encoded data removed]",
      "text/plain": [
       "<Figure size 640x480 with 1 Axes>"
      ]
     },
     "metadata": {},
     "output_type": "display_data"
    },
    {
     "name": "stdout",
     "output_type": "stream",
     "text": [
      "True Label: 1\n",
      "Predicted Label: 0\n"
     ]
    },
    {
     "data": {
      "image/png": "[encoded data removed]",
      "text/plain": [
       "<Figure size 640x480 with 1 Axes>"
      ]
     },
     "metadata": {},
     "output_type": "display_data"
    },
    {
     "name": "stdout",
     "output_type": "stream",
     "text": [
      "True Label: 1\n",
      "Predicted Label: 1\n"
     ]
    },
    {
     "data": {
      "image/png": "[encoded data removed]",
      "text/plain": [
       "<Figure size 640x480 with 1 Axes>"
      ]
     },
     "metadata": {},
     "output_type": "display_data"
    },
    {
     "name": "stdout",
     "output_type": "stream",
     "text": [
      "True Label: 1\n",
      "Predicted Label: 0\n"
     ]
    },
    {
     "data": {
      "image/png": "[encoded data removed]",
      "text/plain": [
       "<Figure size 640x480 with 1 Axes>"
      ]
     },
     "metadata": {},
     "output_type": "display_data"
    },
    {
     "name": "stdout",
     "output_type": "stream",
     "text": [
      "True Label: 1\n",
      "Predicted Label: 0\n"
     ]
    },
    {
     "data": {
      "image/png": "[encoded data removed]",
      "text/plain": [
       "<Figure size 640x480 with 1 Axes>"
      ]
     },
     "metadata": {},
     "output_type": "display_data"
    },
    {
     "name": "stdout",
     "output_type": "stream",
     "text": [
      "True Label: 1\n",
      "Predicted Label: 1\n"
     ]
    },
    {
     "data": {
      "image/png": "[encoded data removed]",
      "text/plain": [
       "<Figure size 640x480 with 1 Axes>"
      ]
     },
     "metadata": {},
     "output_type": "display_data"
    },
    {
     "name": "stdout",
     "output_type": "stream",
     "text": [
      "True Label: 1\n",
      "Predicted Label: 2\n"
     ]
    },
    {
     "data": {
      "image/png": "[encoded data removed]",
      "text/plain": [
       "<Figure size 640x480 with 1 Axes>"
      ]
     },
     "metadata": {},
     "output_type": "display_data"
    },
    {
     "name": "stdout",
     "output_type": "stream",
     "text": [
      "True Label: 1\n",
      "Predicted Label: 0\n"
     ]
    },
    {
     "data": {
      "image/png": "[encoded data removed]",
      "text/plain": [
       "<Figure size 640x480 with 1 Axes>"
      ]
     },
     "metadata": {},
     "output_type": "display_data"
    },
    {
     "name": "stdout",
     "output_type": "stream",
     "text": [
      "True Label: 1\n",
      "Predicted Label: 1\n"
     ]
    },
    {
     "data": {
      "image/png": "[encoded data removed]",
      "text/plain": [
       "<Figure size 640x480 with 1 Axes>"
      ]
     },
     "metadata": {},
     "output_type": "display_data"
    },
    {
     "name": "stdout",
     "output_type": "stream",
     "text": [
      "True Label: 1\n",
      "Predicted Label: 1\n"
     ]
    },
    {
     "data": {
      "image/png": "[encoded data removed]",
      "text/plain": [
       "<Figure size 640x480 with 1 Axes>"
      ]
     },
     "metadata": {},
     "output_type": "display_data"
    },
    {
     "name": "stdout",
     "output_type": "stream",
     "text": [
      "True Label: 1\n",
      "Predicted Label: 0\n"
     ]
    },
    {
     "data": {
      "image/png": "[encoded data removed]",
      "text/plain": [
       "<Figure size 640x480 with 1 Axes>"
      ]
     },
     "metadata": {},
     "output_type": "display_data"
    },
    {
     "name": "stdout",
     "output_type": "stream",
     "text": [
      "True Label: 1\n",
      "Predicted Label: 1\n"
     ]
    },
    {
     "data": {
      "image/png": "[encoded data removed]",
      "text/plain": [
       "<Figure size 640x480 with 1 Axes>"
      ]
     },
     "metadata": {},
     "output_type": "display_data"
    },
    {
     "name": "stdout",
     "output_type": "stream",
     "text": [
      "True Label: 1\n",
      "Predicted Label: 2\n"
     ]
    },
    {
     "data": {
      "image/png": "[encoded data removed]",
      "text/plain": [
       "<Figure size 640x480 with 1 Axes>"
      ]
     },
     "metadata": {},
     "output_type": "display_data"
    },
    {
     "name": "stdout",
     "output_type": "stream",
     "text": [
      "True Label: 1\n",
      "Predicted Label: 2\n"
     ]
    },
    {
     "data": {
      "image/png": "[encoded data removed]",
      "text/plain": [
       "<Figure size 640x480 with 1 Axes>"
      ]
     },
     "metadata": {},
     "output_type": "display_data"
    },
    {
     "name": "stdout",
     "output_type": "stream",
     "text": [
      "True Label: 1\n",
      "Predicted Label: 1\n"
     ]
    },
    {
     "data": {
      "image/png": "[encoded data removed]",
      "text/plain": [
       "<Figure size 640x480 with 1 Axes>"
      ]
     },
     "metadata": {},
     "output_type": "display_data"
    },
    {
     "name": "stdout",
     "output_type": "stream",
     "text": [
      "True Label: 2\n",
      "Predicted Label: 1\n"
     ]
    },
    {
     "data": {
      "image/png": "[encoded data removed]",
      "text/plain": [
       "<Figure size 640x480 with 1 Axes>"
      ]
     },
     "metadata": {},
     "output_type": "display_data"
    },
    {
     "name": "stdout",
     "output_type": "stream",
     "text": [
      "True Label: 2\n",
      "Predicted Label: 1\n"
     ]
    },
    {
     "data": {
      "image/png": "[encoded data removed]",
      "text/plain": [
       "<Figure size 640x480 with 1 Axes>"
      ]
     },
     "metadata": {},
     "output_type": "display_data"
    },
    {
     "name": "stdout",
     "output_type": "stream",
     "text": [
      "True Label: 2\n",
      "Predicted Label: 1\n"
     ]
    },
    {
     "data": {
      "image/png": "[encoded data removed]",
      "text/plain": [
       "<Figure size 640x480 with 1 Axes>"
      ]
     },
     "metadata": {},
     "output_type": "display_data"
    },
    {
     "name": "stdout",
     "output_type": "stream",
     "text": [
      "True Label: 2\n",
      "Predicted Label: 2\n"
     ]
    },
    {
     "data": {
      "image/png": "[encoded data removed]",
      "text/plain": [
       "<Figure size 640x480 with 1 Axes>"
      ]
     },
     "metadata": {},
     "output_type": "display_data"
    },
    {
     "name": "stdout",
     "output_type": "stream",
     "text": [
      "True Label: 2\n",
      "Predicted Label: 0\n"
     ]
    },
    {
     "data": {
      "image/png": "[encoded data removed]",
      "text/plain": [
       "<Figure size 640x480 with 1 Axes>"
      ]
     },
     "metadata": {},
     "output_type": "display_data"
    },
    {
     "name": "stdout",
     "output_type": "stream",
     "text": [
      "True Label: 2\n",
      "Predicted Label: 2\n"
     ]
    },
    {
     "data": {
      "image/png": "[encoded data removed]",
      "text/plain": [
       "<Figure size 640x480 with 1 Axes>"
      ]
     },
     "metadata": {},
     "output_type": "display_data"
    },
    {
     "name": "stdout",
     "output_type": "stream",
     "text": [
      "True Label: 2\n",
      "Predicted Label: 0\n"
     ]
    },
    {
     "data": {
      "image/png": "[encoded data removed]",
      "text/plain": [
       "<Figure size 640x480 with 1 Axes>"
      ]
     },
     "metadata": {},
     "output_type": "display_data"
    },
    {
     "name": "stdout",
     "output_type": "stream",
     "text": [
      "True Label: 2\n",
      "Predicted Label: 2\n"
     ]
    },
    {
     "data": {
      "image/png": "[encoded data removed]",
      "text/plain": [
       "<Figure size 640x480 with 1 Axes>"
      ]
     },
     "metadata": {},
     "output_type": "display_data"
    },
    {
     "name": "stdout",
     "output_type": "stream",
     "text": [
      "True Label: 2\n",
      "Predicted Label: 2\n"
     ]
    },
    {
     "data": {
      "image/png": "[encoded data removed]",
      "text/plain": [
       "<Figure size 640x480 with 1 Axes>"
      ]
     },
     "metadata": {},
     "output_type": "display_data"
    },
    {
     "name": "stdout",
     "output_type": "stream",
     "text": [
      "True Label: 2\n",
      "Predicted Label: 2\n"
     ]
    },
    {
     "data": {
      "image/png": "[encoded data removed]",
      "text/plain": [
       "<Figure size 640x480 with 1 Axes>"
      ]
     },
     "metadata": {},
     "output_type": "display_data"
    },
    {
     "name": "stdout",
     "output_type": "stream",
     "text": [
      "True Label: 2\n",
      "Predicted Label: 1\n"
     ]
    },
    {
     "data": {
      "image/png": "[encoded data removed]",
      "text/plain": [
       "<Figure size 640x480 with 1 Axes>"
      ]
     },
     "metadata": {},
     "output_type": "display_data"
    },
    {
     "name": "stdout",
     "output_type": "stream",
     "text": [
      "True Label: 2\n",
      "Predicted Label: 0\n"
     ]
    },
    {
     "data": {
      "image/png": "[encoded data removed]",
      "text/plain": [
       "<Figure size 640x480 with 1 Axes>"
      ]
     },
     "metadata": {},
     "output_type": "display_data"
    },
    {
     "name": "stdout",
     "output_type": "stream",
     "text": [
      "True Label: 2\n",
      "Predicted Label: 2\n"
     ]
    },
    {
     "data": {
      "image/png": "[encoded data removed]",
      "text/plain": [
       "<Figure size 640x480 with 1 Axes>"
      ]
     },
     "metadata": {},
     "output_type": "display_data"
    },
    {
     "name": "stdout",
     "output_type": "stream",
     "text": [
      "True Label: 2\n",
      "Predicted Label: 0\n"
     ]
    },
    {
     "data": {
      "image/png": "[encoded data removed]",
      "text/plain": [
       "<Figure size 640x480 with 1 Axes>"
      ]
     },
     "metadata": {},
     "output_type": "display_data"
    },
    {
     "name": "stdout",
     "output_type": "stream",
     "text": [
      "True Label: 2\n",
      "Predicted Label: 0\n"
     ]
    },
    {
     "data": {
      "image/png": "[encoded data removed]",
      "text/plain": [
       "<Figure size 640x480 with 1 Axes>"
      ]
     },
     "metadata": {},
     "output_type": "display_data"
    },
    {
     "name": "stdout",
     "output_type": "stream",
     "text": [
      "True Label: 2\n",
      "Predicted Label: 2\n"
     ]
    },
    {
     "data": {
      "image/png": "[encoded data removed]",
      "text/plain": [
       "<Figure size 640x480 with 1 Axes>"
      ]
     },
     "metadata": {},
     "output_type": "display_data"
    },
    {
     "name": "stdout",
     "output_type": "stream",
     "text": [
      "True Label: 2\n",
      "Predicted Label: 2\n"
     ]
    },
    {
     "data": {
      "image/png": "[encoded data removed]",
      "text/plain": [
       "<Figure size 640x480 with 1 Axes>"
      ]
     },
     "metadata": {},
     "output_type": "display_data"
    },
    {
     "name": "stdout",
     "output_type": "stream",
     "text": [
      "True Label: 2\n",
      "Predicted Label: 0\n"
     ]
    },
    {
     "data": {
      "image/png": "[encoded data removed]",
      "text/plain": [
       "<Figure size 640x480 with 1 Axes>"
      ]
     },
     "metadata": {},
     "output_type": "display_data"
    },
    {
     "name": "stdout",
     "output_type": "stream",
     "text": [
      "True Label: 2\n",
      "Predicted Label: 1\n"
     ]
    },
    {
     "data": {
      "image/png": "[encoded data removed]",
      "text/plain": [
       "<Figure size 640x480 with 1 Axes>"
      ]
     },
     "metadata": {},
     "output_type": "display_data"
    },
    {
     "name": "stdout",
     "output_type": "stream",
     "text": [
      "True Label: 2\n",
      "Predicted Label: 2\n"
     ]
    },
    {
     "data": {
      "image/png": "[encoded data removed]",
      "text/plain": [
       "<Figure size 640x480 with 1 Axes>"
      ]
     },
     "metadata": {},
     "output_type": "display_data"
    }
   ],
   "source": [
    "import matplotlib.pyplot as plt\n",
    "import numpy as np\n",
    "import cv2\n",
    "\n",
    "# Generate predictions for the test set\n",
    "predictions = model.predict(test_generator)\n",
    "\n",
    "# Convert predictions to class labels\n",
    "predicted_labels = np.argmax(predictions, axis=1)\n",
    "\n",
    "# Get true labels\n",
    "true_labels = test_generator.classes\n",
    "\n",
    "# Get filenames of the test set\n",
    "filenames = test_generator.filenames\n",
    "\n",
    "# Display true and predicted labels along with corresponding images\n",
    "for i in range(len(true_labels)):\n",
    "    image_path = 'shapes/' + filenames[i]  # Construct full image path\n",
    "    img = cv2.imread(image_path)  # Load image using OpenCV\n",
    "    img = cv2.cvtColor(img, cv2.COLOR_BGR2RGB)  # Convert image to RGB\n",
    "    \n",
    "    # Print true and predicted labels\n",
    "    print(\"True Label:\", true_labels[i])\n",
    "    print(\"Predicted Label:\", predicted_labels[i])\n",
    "    \n",
    "    # Display image\n",
    "    plt.imshow(img)\n",
    "    plt.axis('off')\n",
    "    plt.show()\n"
   ]
  },
  {
   "cell_type": "code",
   "execution_count": null,
   "id": "ffd74427",
   "metadata": {},
   "outputs": [],
   "source": []
  }
 ],
 "metadata": {
  "kernelspec": {
   "display_name": "Python 3 (ipykernel)",
   "language": "python",
   "name": "python3"
  },
  "language_info": {
   "codemirror_mode": {
    "name": "ipython",
    "version": 3
   },
   "file_extension": ".py",
   "mimetype": "text/x-python",
   "name": "python",
   "nbconvert_exporter": "python",
   "pygments_lexer": "ipython3",
   "version": "3.11.5"
  }
 },
 "nbformat": 4,
 "nbformat_minor": 5
}
