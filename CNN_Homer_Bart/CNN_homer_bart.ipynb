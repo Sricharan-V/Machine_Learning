{
 "cells": [
  {
   "cell_type": "code",
   "execution_count": 1,
   "id": "25eefecb",
   "metadata": {},
   "outputs": [
    {
     "name": "stdout",
     "output_type": "stream",
     "text": [
      "WARNING:tensorflow:From C:\\Users\\V SRICHARAN\\anaconda3\\Lib\\site-packages\\keras\\src\\losses.py:2976: The name tf.losses.sparse_softmax_cross_entropy is deprecated. Please use tf.compat.v1.losses.sparse_softmax_cross_entropy instead.\n",
      "\n"
     ]
    }
   ],
   "source": [
    "import os\n",
    "import pandas as pd\n",
    "import numpy as np\n",
    "from tensorflow.keras.preprocessing.image import ImageDataGenerator\n",
    "from sklearn.model_selection import train_test_split\n",
    "from tensorflow.keras.models import Sequential\n",
    "from tensorflow.keras.layers import Conv2D, MaxPooling2D, Flatten, Dense, Dropout"
   ]
  },
  {
   "cell_type": "code",
   "execution_count": 2,
   "id": "e8b4d0b4",
   "metadata": {},
   "outputs": [
    {
     "name": "stdout",
     "output_type": "stream",
     "text": [
      "Found 215 validated image filenames belonging to 2 classes.\n",
      "Found 54 validated image filenames belonging to 2 classes.\n"
     ]
    }
   ],
   "source": [
    "datagen = ImageDataGenerator(\n",
    "    rescale=1./255,  # normalize pixel values to [0,1]\n",
    "    rotation_range=20,  # randomly rotate images\n",
    "    width_shift_range=0.2,  # randomly shift images horizontally\n",
    "    height_shift_range=0.2,  # randomly shift images vertically\n",
    "    shear_range=0.2,  # randomly apply shear transformation\n",
    "    zoom_range=0.2,  # randomly zoom in and out on images\n",
    "    horizontal_flip=True,  # randomly flip images horizontally\n",
    "    fill_mode='nearest'  # fill in newly created pixels\n",
    ")\n",
    "\n",
    "def get_label(filename):\n",
    "    if filename.startswith(\"homer\"):\n",
    "        return 'homer'\n",
    "    else:\n",
    "        return 'bart'\n",
    "\n",
    "image_filenames = os.listdir('homer_bart_1')\n",
    "labels = [get_label(filename) for filename in image_filenames]\n",
    "\n",
    "train_filenames, test_filenames, train_labels, test_labels = train_test_split(image_filenames, labels, test_size=0.2, random_state=42)\n",
    "\n",
    "\n",
    "train_df = pd.DataFrame({\"filename\": train_filenames, \"label\": train_labels})\n",
    "test_df = pd.DataFrame({\"filename\": test_filenames, \"label\": test_labels})\n",
    "\n",
    "\n",
    "train_generator = datagen.flow_from_dataframe(\n",
    "    train_df,\n",
    "    directory='homer_bart_1',\n",
    "    x_col=\"filename\",\n",
    "    y_col=\"label\",\n",
    "    target_size=(150, 150),\n",
    "    batch_size=32,\n",
    "    class_mode='binary',\n",
    "    shuffle=True,\n",
    "    seed=42\n",
    ")\n",
    "\n",
    "test_generator = datagen.flow_from_dataframe(\n",
    "    test_df,\n",
    "    directory='homer_bart_1',\n",
    "    x_col=\"filename\",\n",
    "    y_col=\"label\",\n",
    "    target_size=(150, 150), \n",
    "    batch_size=32,\n",
    "    class_mode='binary',\n",
    "    shuffle=True,\n",
    "    seed=42\n",
    ")"
   ]
  },
  {
   "cell_type": "code",
   "execution_count": 3,
   "id": "69b354d4",
   "metadata": {},
   "outputs": [
    {
     "name": "stdout",
     "output_type": "stream",
     "text": [
      "WARNING:tensorflow:From C:\\Users\\V SRICHARAN\\anaconda3\\Lib\\site-packages\\keras\\src\\backend.py:873: The name tf.get_default_graph is deprecated. Please use tf.compat.v1.get_default_graph instead.\n",
      "\n",
      "WARNING:tensorflow:From C:\\Users\\V SRICHARAN\\anaconda3\\Lib\\site-packages\\keras\\src\\layers\\pooling\\max_pooling2d.py:161: The name tf.nn.max_pool is deprecated. Please use tf.nn.max_pool2d instead.\n",
      "\n"
     ]
    }
   ],
   "source": [
    "model = Sequential([\n",
    "    Conv2D(32, (3, 3), activation='relu', input_shape=(150, 150, 3)),\n",
    "    MaxPooling2D((2, 2)),\n",
    "    Conv2D(64, (3, 3), activation='relu'),\n",
    "    MaxPooling2D((2, 2)),\n",
    "    Conv2D(128, (3, 3), activation='relu'),\n",
    "    MaxPooling2D((2, 2)),\n",
    "    Flatten(),\n",
    "    Dense(512, activation='relu'),\n",
    "    Dropout(0.8),\n",
    "    Dense(1, activation='sigmoid')\n",
    "])"
   ]
  },
  {
   "cell_type": "code",
   "execution_count": 4,
   "id": "c7460d0f",
   "metadata": {},
   "outputs": [
    {
     "name": "stdout",
     "output_type": "stream",
     "text": [
      "WARNING:tensorflow:From C:\\Users\\V SRICHARAN\\anaconda3\\Lib\\site-packages\\keras\\src\\optimizers\\__init__.py:309: The name tf.train.Optimizer is deprecated. Please use tf.compat.v1.train.Optimizer instead.\n",
      "\n",
      "Model: \"sequential\"\n",
      "_________________________________________________________________\n",
      " Layer (type)                Output Shape              Param #   \n",
      "=================================================================\n",
      " conv2d (Conv2D)             (None, 148, 148, 32)      896       \n",
      "                                                                 \n",
      " max_pooling2d (MaxPooling2  (None, 74, 74, 32)        0         \n",
      " D)                                                              \n",
      "                                                                 \n",
      " conv2d_1 (Conv2D)           (None, 72, 72, 64)        18496     \n",
      "                                                                 \n",
      " max_pooling2d_1 (MaxPoolin  (None, 36, 36, 64)        0         \n",
      " g2D)                                                            \n",
      "                                                                 \n",
      " conv2d_2 (Conv2D)           (None, 34, 34, 128)       73856     \n",
      "                                                                 \n",
      " max_pooling2d_2 (MaxPoolin  (None, 17, 17, 128)       0         \n",
      " g2D)                                                            \n",
      "                                                                 \n",
      " flatten (Flatten)           (None, 36992)             0         \n",
      "                                                                 \n",
      " dense (Dense)               (None, 512)               18940416  \n",
      "                                                                 \n",
      " dropout (Dropout)           (None, 512)               0         \n",
      "                                                                 \n",
      " dense_1 (Dense)             (None, 1)                 513       \n",
      "                                                                 \n",
      "=================================================================\n",
      "Total params: 19034177 (72.61 MB)\n",
      "Trainable params: 19034177 (72.61 MB)\n",
      "Non-trainable params: 0 (0.00 Byte)\n",
      "_________________________________________________________________\n"
     ]
    }
   ],
   "source": [
    "model.compile(optimizer='adam', loss='binary_crossentropy', metrics=['accuracy'])\n",
    "\n",
    "model.summary()"
   ]
  },
  {
   "cell_type": "code",
   "execution_count": 5,
   "id": "86a2a3d1",
   "metadata": {},
   "outputs": [
    {
     "name": "stdout",
     "output_type": "stream",
     "text": [
      "Epoch 1/20\n",
      "WARNING:tensorflow:From C:\\Users\\V SRICHARAN\\anaconda3\\Lib\\site-packages\\keras\\src\\utils\\tf_utils.py:492: The name tf.ragged.RaggedTensorValue is deprecated. Please use tf.compat.v1.ragged.RaggedTensorValue instead.\n",
      "\n",
      "WARNING:tensorflow:From C:\\Users\\V SRICHARAN\\anaconda3\\Lib\\site-packages\\keras\\src\\engine\\base_layer_utils.py:384: The name tf.executing_eagerly_outside_functions is deprecated. Please use tf.compat.v1.executing_eagerly_outside_functions instead.\n",
      "\n",
      "7/7 [==============================] - 3s 258ms/step - loss: 1.0067 - accuracy: 0.5256 - val_loss: 0.7422 - val_accuracy: 0.5741\n",
      "Epoch 2/20\n",
      "7/7 [==============================] - 3s 496ms/step - loss: 0.6469 - accuracy: 0.6093 - val_loss: 0.6460 - val_accuracy: 0.6667\n",
      "Epoch 3/20\n",
      "7/7 [==============================] - 5s 652ms/step - loss: 0.6081 - accuracy: 0.6140 - val_loss: 0.6107 - val_accuracy: 0.7037\n",
      "Epoch 4/20\n",
      "7/7 [==============================] - 5s 642ms/step - loss: 0.5457 - accuracy: 0.7209 - val_loss: 0.6458 - val_accuracy: 0.6111\n",
      "Epoch 5/20\n",
      "7/7 [==============================] - 5s 647ms/step - loss: 0.5007 - accuracy: 0.7860 - val_loss: 0.6636 - val_accuracy: 0.6481\n",
      "Epoch 6/20\n",
      "7/7 [==============================] - 5s 645ms/step - loss: 0.4199 - accuracy: 0.8047 - val_loss: 0.6215 - val_accuracy: 0.7407\n",
      "Epoch 7/20\n",
      "7/7 [==============================] - 5s 646ms/step - loss: 0.3859 - accuracy: 0.8372 - val_loss: 0.5490 - val_accuracy: 0.7407\n",
      "Epoch 8/20\n",
      "7/7 [==============================] - 5s 639ms/step - loss: 0.3798 - accuracy: 0.8372 - val_loss: 0.4990 - val_accuracy: 0.7778\n",
      "Epoch 9/20\n",
      "7/7 [==============================] - 5s 649ms/step - loss: 0.2918 - accuracy: 0.8698 - val_loss: 0.4468 - val_accuracy: 0.8148\n",
      "Epoch 10/20\n",
      "7/7 [==============================] - 5s 638ms/step - loss: 0.2841 - accuracy: 0.8698 - val_loss: 0.4751 - val_accuracy: 0.8148\n",
      "Epoch 11/20\n",
      "7/7 [==============================] - 5s 643ms/step - loss: 0.3313 - accuracy: 0.8558 - val_loss: 0.6110 - val_accuracy: 0.7963\n",
      "Epoch 12/20\n",
      "7/7 [==============================] - 5s 650ms/step - loss: 0.3427 - accuracy: 0.8558 - val_loss: 0.4180 - val_accuracy: 0.7407\n",
      "Epoch 13/20\n",
      "7/7 [==============================] - 5s 641ms/step - loss: 0.3265 - accuracy: 0.9023 - val_loss: 0.4765 - val_accuracy: 0.7593\n",
      "Epoch 14/20\n",
      "7/7 [==============================] - 5s 685ms/step - loss: 0.3484 - accuracy: 0.8744 - val_loss: 0.4419 - val_accuracy: 0.8148\n",
      "Epoch 15/20\n",
      "7/7 [==============================] - 5s 643ms/step - loss: 0.2932 - accuracy: 0.8837 - val_loss: 0.3381 - val_accuracy: 0.8333\n",
      "Epoch 16/20\n",
      "7/7 [==============================] - 5s 655ms/step - loss: 0.2791 - accuracy: 0.8977 - val_loss: 0.3167 - val_accuracy: 0.8333\n",
      "Epoch 17/20\n",
      "7/7 [==============================] - 5s 670ms/step - loss: 0.2783 - accuracy: 0.8884 - val_loss: 0.4552 - val_accuracy: 0.8148\n",
      "Epoch 18/20\n",
      "7/7 [==============================] - 5s 643ms/step - loss: 0.2599 - accuracy: 0.9070 - val_loss: 0.4207 - val_accuracy: 0.8519\n",
      "Epoch 19/20\n",
      "7/7 [==============================] - 5s 717ms/step - loss: 0.2298 - accuracy: 0.9023 - val_loss: 0.6847 - val_accuracy: 0.8333\n",
      "Epoch 20/20\n",
      "7/7 [==============================] - 5s 666ms/step - loss: 0.2240 - accuracy: 0.9070 - val_loss: 0.5671 - val_accuracy: 0.8148\n"
     ]
    }
   ],
   "source": [
    "history = model.fit(\n",
    "    train_generator,\n",
    "    epochs=20,\n",
    "    validation_data=test_generator,\n",
    ")"
   ]
  },
  {
   "cell_type": "code",
   "execution_count": null,
   "id": "719da684",
   "metadata": {},
   "outputs": [],
   "source": []
  },
  {
   "cell_type": "code",
   "execution_count": null,
   "id": "f639ef60",
   "metadata": {},
   "outputs": [],
   "source": []
  }
 ],
 "metadata": {
  "kernelspec": {
   "display_name": "Python 3 (ipykernel)",
   "language": "python",
   "name": "python3"
  },
  "language_info": {
   "codemirror_mode": {
    "name": "ipython",
    "version": 3
   },
   "file_extension": ".py",
   "mimetype": "text/x-python",
   "name": "python",
   "nbconvert_exporter": "python",
   "pygments_lexer": "ipython3",
   "version": "3.11.5"
  }
 },
 "nbformat": 4,
 "nbformat_minor": 5
}
