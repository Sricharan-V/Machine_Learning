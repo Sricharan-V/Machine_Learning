{
 "cells": [
  {
   "cell_type": "code",
   "execution_count": 26,
   "id": "22187109",
   "metadata": {},
   "outputs": [],
   "source": [
    "import cv2           \n",
    "import numpy as np\n",
    "import os\n",
    "import zipfile\n",
    "import tensorflow as tf\n",
    "import pandas as pd\n",
    "from sklearn.model_selection import train_test_split\n",
    "from tensorflow.keras.models import Sequential\n",
    "from tensorflow.keras.layers import Dense\n",
    "from sklearn.metrics import accuracy_score"
   ]
  },
  {
   "cell_type": "code",
   "execution_count": 2,
   "id": "15f82171",
   "metadata": {},
   "outputs": [],
   "source": [
    "directory = 'homer_bart_1'\n",
    "files = [os.path.join(directory, f) for f in sorted(os.listdir(directory))]"
   ]
  },
  {
   "cell_type": "code",
   "execution_count": 5,
   "id": "2eca4546",
   "metadata": {},
   "outputs": [],
   "source": [
    "classes = []\n",
    "images = []"
   ]
  },
  {
   "cell_type": "code",
   "execution_count": 13,
   "id": "7b839505",
   "metadata": {},
   "outputs": [],
   "source": [
    "for path_image in files:\n",
    "    image = cv2.imread(path_image)\n",
    "    continue\n",
    "\n",
    "    image = cv2.resize(image, (128, 128))\n",
    "    image = cv2.cvtColor(image, cv2.COLOR_BGR2GRAY)   \n",
    "\n",
    "    image = image.ravel()\n",
    "\n",
    "    images.append(image)    \n",
    "    name_image = os.path.basename(os.path.normpath(path_image))  \n",
    "\n",
    "    if name_image.startswith('b'):                             \n",
    "        classe = 0\n",
    "    else:\n",
    "        classe = 1\n",
    "\n",
    "    classes.append(classe)"
   ]
  },
  {
   "cell_type": "code",
   "execution_count": 15,
   "id": "9d8cd2a8",
   "metadata": {},
   "outputs": [],
   "source": [
    "X = np.asarray(images)   \n",
    "y = np.asarray(classes)"
   ]
  },
  {
   "cell_type": "code",
   "execution_count": 16,
   "id": "eda976e5",
   "metadata": {},
   "outputs": [],
   "source": [
    "from sklearn.preprocessing import MinMaxScaler\n",
    "scaler = MinMaxScaler()\n",
    "X = scaler.fit_transform(X)"
   ]
  },
  {
   "cell_type": "code",
   "execution_count": 18,
   "id": "df79d232",
   "metadata": {},
   "outputs": [],
   "source": [
    "X_train, X_test, y_train, y_test = train_test_split(X, y, test_size = 0.2, random_state = 42) "
   ]
  },
  {
   "cell_type": "code",
   "execution_count": 21,
   "id": "aa8209e9",
   "metadata": {},
   "outputs": [],
   "source": [
    "model = Sequential([\n",
    "    Dense(input_shape=(16384,), units=8193, activation='relu'),\n",
    "    Dense(units=8193, activation='relu'),\n",
    "    Dense(units=1, activation='sigmoid')\n",
    "])"
   ]
  },
  {
   "cell_type": "code",
   "execution_count": 22,
   "id": "aa810ad1",
   "metadata": {},
   "outputs": [
    {
     "name": "stdout",
     "output_type": "stream",
     "text": [
      "Model: \"sequential\"\n",
      "_________________________________________________________________\n",
      " Layer (type)                Output Shape              Param #   \n",
      "=================================================================\n",
      " dense_3 (Dense)             (None, 8193)              134242305 \n",
      "                                                                 \n",
      " dense_4 (Dense)             (None, 8193)              67133442  \n",
      "                                                                 \n",
      " dense_5 (Dense)             (None, 1)                 8194      \n",
      "                                                                 \n",
      "=================================================================\n",
      "Total params: 201383941 (768.22 MB)\n",
      "Trainable params: 201383941 (768.22 MB)\n",
      "Non-trainable params: 0 (0.00 Byte)\n",
      "_________________________________________________________________\n"
     ]
    }
   ],
   "source": [
    "model.summary()"
   ]
  },
  {
   "cell_type": "code",
   "execution_count": 23,
   "id": "2b04e6e9",
   "metadata": {},
   "outputs": [
    {
     "name": "stdout",
     "output_type": "stream",
     "text": [
      "WARNING:tensorflow:From C:\\Users\\V SRICHARAN\\anaconda3\\Lib\\site-packages\\keras\\src\\optimizers\\__init__.py:309: The name tf.train.Optimizer is deprecated. Please use tf.compat.v1.train.Optimizer instead.\n",
      "\n"
     ]
    }
   ],
   "source": [
    "model.compile(optimizer='Adam', loss='binary_crossentropy', metrics=['accuracy'])"
   ]
  },
  {
   "cell_type": "code",
   "execution_count": 24,
   "id": "55d9010c",
   "metadata": {},
   "outputs": [
    {
     "name": "stdout",
     "output_type": "stream",
     "text": [
      "Epoch 1/20\n",
      "WARNING:tensorflow:From C:\\Users\\V SRICHARAN\\anaconda3\\Lib\\site-packages\\keras\\src\\utils\\tf_utils.py:492: The name tf.ragged.RaggedTensorValue is deprecated. Please use tf.compat.v1.ragged.RaggedTensorValue instead.\n",
      "\n",
      "WARNING:tensorflow:From C:\\Users\\V SRICHARAN\\anaconda3\\Lib\\site-packages\\keras\\src\\engine\\base_layer_utils.py:384: The name tf.executing_eagerly_outside_functions is deprecated. Please use tf.compat.v1.executing_eagerly_outside_functions instead.\n",
      "\n",
      "7/7 [==============================] - 15s 2s/step - loss: 119.9764 - accuracy: 0.5302\n",
      "Epoch 2/20\n",
      "7/7 [==============================] - 11s 2s/step - loss: 2.8111 - accuracy: 0.5349\n",
      "Epoch 3/20\n",
      "7/7 [==============================] - 10s 1s/step - loss: 1.1694 - accuracy: 0.5256\n",
      "Epoch 4/20\n",
      "7/7 [==============================] - 8s 1s/step - loss: 0.7608 - accuracy: 0.5256\n",
      "Epoch 5/20\n",
      "7/7 [==============================] - 8s 1s/step - loss: 0.7046 - accuracy: 0.5209\n",
      "Epoch 6/20\n",
      "7/7 [==============================] - 8s 1s/step - loss: 0.6789 - accuracy: 0.6000\n",
      "Epoch 7/20\n",
      "7/7 [==============================] - 8s 1s/step - loss: 0.6406 - accuracy: 0.6093\n",
      "Epoch 8/20\n",
      "7/7 [==============================] - 8s 1s/step - loss: 0.6123 - accuracy: 0.6930\n",
      "Epoch 9/20\n",
      "7/7 [==============================] - 8s 1s/step - loss: 0.6408 - accuracy: 0.6372\n",
      "Epoch 10/20\n",
      "7/7 [==============================] - 8s 1s/step - loss: 0.6584 - accuracy: 0.6698\n",
      "Epoch 11/20\n",
      "7/7 [==============================] - 8s 1s/step - loss: 0.6510 - accuracy: 0.5907\n",
      "Epoch 12/20\n",
      "7/7 [==============================] - 8s 1s/step - loss: 0.6170 - accuracy: 0.6512\n",
      "Epoch 13/20\n",
      "7/7 [==============================] - 8s 1s/step - loss: 0.5401 - accuracy: 0.7488\n",
      "Epoch 14/20\n",
      "7/7 [==============================] - 8s 1s/step - loss: 0.5318 - accuracy: 0.7488\n",
      "Epoch 15/20\n",
      "7/7 [==============================] - 8s 1s/step - loss: 0.5674 - accuracy: 0.7163\n",
      "Epoch 16/20\n",
      "7/7 [==============================] - 8s 1s/step - loss: 0.5166 - accuracy: 0.7302\n",
      "Epoch 17/20\n",
      "7/7 [==============================] - 8s 1s/step - loss: 0.4334 - accuracy: 0.7767\n",
      "Epoch 18/20\n",
      "7/7 [==============================] - 8s 1s/step - loss: 0.3701 - accuracy: 0.8279\n",
      "Epoch 19/20\n",
      "7/7 [==============================] - 8s 1s/step - loss: 0.5259 - accuracy: 0.7116\n",
      "Epoch 20/20\n",
      "7/7 [==============================] - 8s 1s/step - loss: 0.6350 - accuracy: 0.6465\n"
     ]
    }
   ],
   "source": [
    "history = model.fit(X_train, y_train, epochs=20)"
   ]
  },
  {
   "cell_type": "code",
   "execution_count": 31,
   "id": "5728078c",
   "metadata": {},
   "outputs": [
    {
     "name": "stdout",
     "output_type": "stream",
     "text": [
      "2/2 [==============================] - 0s 130ms/step\n"
     ]
    }
   ],
   "source": [
    "y_pred = model.predict(X_test)"
   ]
  },
  {
   "cell_type": "code",
   "execution_count": 33,
   "id": "bf109ff6",
   "metadata": {},
   "outputs": [],
   "source": [
    "y_pred = (y_pred>0.05)"
   ]
  },
  {
   "cell_type": "code",
   "execution_count": 35,
   "id": "72d4f32f",
   "metadata": {},
   "outputs": [],
   "source": [
    "y_test = (y_test==1)"
   ]
  },
  {
   "cell_type": "code",
   "execution_count": 37,
   "id": "45f0cdb3",
   "metadata": {},
   "outputs": [
    {
     "data": {
      "text/plain": [
       "array([False, False, False, False,  True, False,  True, False,  True,\n",
       "        True,  True,  True,  True, False,  True,  True,  True,  True,\n",
       "       False, False,  True,  True, False, False,  True, False, False,\n",
       "        True, False, False, False, False, False,  True,  True, False,\n",
       "       False, False, False, False, False, False,  True, False, False,\n",
       "        True, False,  True, False,  True, False, False,  True,  True])"
      ]
     },
     "execution_count": 37,
     "metadata": {},
     "output_type": "execute_result"
    }
   ],
   "source": [
    "y_test"
   ]
  },
  {
   "cell_type": "code",
   "execution_count": 36,
   "id": "61fa36bc",
   "metadata": {},
   "outputs": [
    {
     "data": {
      "text/plain": [
       "0.7222222222222222"
      ]
     },
     "execution_count": 36,
     "metadata": {},
     "output_type": "execute_result"
    }
   ],
   "source": [
    "accuracy_score(y_pred, y_test)"
   ]
  },
  {
   "cell_type": "code",
   "execution_count": null,
   "id": "a5b17d56",
   "metadata": {},
   "outputs": [],
   "source": []
  }
 ],
 "metadata": {
  "kernelspec": {
   "display_name": "Python 3 (ipykernel)",
   "language": "python",
   "name": "python3"
  },
  "language_info": {
   "codemirror_mode": {
    "name": "ipython",
    "version": 3
   },
   "file_extension": ".py",
   "mimetype": "text/x-python",
   "name": "python",
   "nbconvert_exporter": "python",
   "pygments_lexer": "ipython3",
   "version": "3.11.5"
  }
 },
 "nbformat": 4,
 "nbformat_minor": 5
}
