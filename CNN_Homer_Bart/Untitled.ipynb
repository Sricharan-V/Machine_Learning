{
 "cells": [
  {
   "cell_type": "code",
   "execution_count": 1,
   "id": "25eefecb",
   "metadata": {},
   "outputs": [
    {
     "name": "stdout",
     "output_type": "stream",
     "text": [
      "WARNING:tensorflow:From C:\\Users\\V SRICHARAN\\anaconda3\\Lib\\site-packages\\keras\\src\\losses.py:2976: The name tf.losses.sparse_softmax_cross_entropy is deprecated. Please use tf.compat.v1.losses.sparse_softmax_cross_entropy instead.\n",
      "\n"
     ]
    }
   ],
   "source": [
    "import os\n",
    "import pandas as pd\n",
    "import numpy as np\n",
    "from tensorflow.keras.preprocessing.image import ImageDataGenerator\n",
    "from sklearn.model_selection import train_test_split\n",
    "from tensorflow.keras.models import Sequential\n",
    "from tensorflow.keras.layers import Conv2D, MaxPooling2D, Flatten, Dense, Dropout"
   ]
  },
  {
   "cell_type": "code",
   "execution_count": 2,
   "id": "e8b4d0b4",
   "metadata": {},
   "outputs": [
    {
     "name": "stdout",
     "output_type": "stream",
     "text": [
      "Found 215 validated image filenames belonging to 2 classes.\n",
      "Found 54 validated image filenames belonging to 2 classes.\n"
     ]
    }
   ],
   "source": [
    "datagen = ImageDataGenerator(\n",
    "    rescale=1./255,  # normalize pixel values to [0,1]\n",
    "    rotation_range=20,  # randomly rotate images\n",
    "    width_shift_range=0.2,  # randomly shift images horizontally\n",
    "    height_shift_range=0.2,  # randomly shift images vertically\n",
    "    shear_range=0.2,  # randomly apply shear transformation\n",
    "    zoom_range=0.2,  # randomly zoom in and out on images\n",
    "    horizontal_flip=True,  # randomly flip images horizontally\n",
    "    fill_mode='nearest'  # fill in newly created pixels\n",
    ")\n",
    "\n",
    "def get_label(filename):\n",
    "    if filename.startswith(\"homer\"):\n",
    "        return 'homer'\n",
    "    else:\n",
    "        return 'bart'\n",
    "\n",
    "image_filenames = os.listdir('homer_bart_1')\n",
    "labels = [get_label(filename) for filename in image_filenames]\n",
    "\n",
    "train_filenames, test_filenames, train_labels, test_labels = train_test_split(image_filenames, labels, test_size=0.2, random_state=42)\n",
    "\n",
    "\n",
    "train_df = pd.DataFrame({\"filename\": train_filenames, \"label\": train_labels})\n",
    "test_df = pd.DataFrame({\"filename\": test_filenames, \"label\": test_labels})\n",
    "\n",
    "\n",
    "train_generator = datagen.flow_from_dataframe(\n",
    "    train_df,\n",
    "    directory='homer_bart_1',\n",
    "    x_col=\"filename\",\n",
    "    y_col=\"label\",\n",
    "    target_size=(150, 150),\n",
    "    batch_size=32,\n",
    "    class_mode='binary',\n",
    "    shuffle=True,\n",
    "    seed=42\n",
    ")\n",
    "\n",
    "test_generator = datagen.flow_from_dataframe(\n",
    "    test_df,\n",
    "    directory='homer_bart_1',\n",
    "    x_col=\"filename\",\n",
    "    y_col=\"label\",\n",
    "    target_size=(150, 150), \n",
    "    batch_size=32,\n",
    "    class_mode='binary',\n",
    "    shuffle=True,\n",
    "    seed=42\n",
    ")"
   ]
  },
  {
   "cell_type": "code",
   "execution_count": 10,
   "id": "69b354d4",
   "metadata": {},
   "outputs": [],
   "source": [
    "model = Sequential([\n",
    "    Conv2D(32, (3, 3), activation='relu', input_shape=(150, 150, 3)),\n",
    "    MaxPooling2D((2, 2)),\n",
    "    Conv2D(64, (3, 3), activation='relu'),\n",
    "    MaxPooling2D((2, 2)),\n",
    "    Conv2D(128, (3, 3), activation='relu'),\n",
    "    MaxPooling2D((2, 2)),\n",
    "    Flatten(),\n",
    "    Dense(512, activation='relu'),\n",
    "    Dropout(0.8),\n",
    "    Dense(1, activation='sigmoid')\n",
    "])"
   ]
  },
  {
   "cell_type": "code",
   "execution_count": 11,
   "id": "c7460d0f",
   "metadata": {},
   "outputs": [
    {
     "name": "stdout",
     "output_type": "stream",
     "text": [
      "Model: \"sequential_2\"\n",
      "_________________________________________________________________\n",
      " Layer (type)                Output Shape              Param #   \n",
      "=================================================================\n",
      " conv2d_6 (Conv2D)           (None, 148, 148, 32)      896       \n",
      "                                                                 \n",
      " max_pooling2d_6 (MaxPoolin  (None, 74, 74, 32)        0         \n",
      " g2D)                                                            \n",
      "                                                                 \n",
      " conv2d_7 (Conv2D)           (None, 72, 72, 64)        18496     \n",
      "                                                                 \n",
      " max_pooling2d_7 (MaxPoolin  (None, 36, 36, 64)        0         \n",
      " g2D)                                                            \n",
      "                                                                 \n",
      " conv2d_8 (Conv2D)           (None, 34, 34, 128)       73856     \n",
      "                                                                 \n",
      " max_pooling2d_8 (MaxPoolin  (None, 17, 17, 128)       0         \n",
      " g2D)                                                            \n",
      "                                                                 \n",
      " flatten_2 (Flatten)         (None, 36992)             0         \n",
      "                                                                 \n",
      " dense_4 (Dense)             (None, 512)               18940416  \n",
      "                                                                 \n",
      " dropout_2 (Dropout)         (None, 512)               0         \n",
      "                                                                 \n",
      " dense_5 (Dense)             (None, 1)                 513       \n",
      "                                                                 \n",
      "=================================================================\n",
      "Total params: 19034177 (72.61 MB)\n",
      "Trainable params: 19034177 (72.61 MB)\n",
      "Non-trainable params: 0 (0.00 Byte)\n",
      "_________________________________________________________________\n"
     ]
    }
   ],
   "source": [
    "model.compile(optimizer='adam', loss='binary_crossentropy', metrics=['accuracy'])\n",
    "\n",
    "model.summary()"
   ]
  },
  {
   "cell_type": "code",
   "execution_count": 12,
   "id": "86a2a3d1",
   "metadata": {},
   "outputs": [
    {
     "name": "stdout",
     "output_type": "stream",
     "text": [
      "Epoch 1/20\n",
      "7/7 [==============================] - 6s 702ms/step - loss: 1.5972 - accuracy: 0.5163 - val_loss: 0.6794 - val_accuracy: 0.5741\n",
      "Epoch 2/20\n",
      "7/7 [==============================] - 4s 623ms/step - loss: 0.6695 - accuracy: 0.6047 - val_loss: 0.6818 - val_accuracy: 0.5741\n",
      "Epoch 3/20\n",
      "7/7 [==============================] - 4s 637ms/step - loss: 0.7014 - accuracy: 0.6233 - val_loss: 0.6607 - val_accuracy: 0.5741\n",
      "Epoch 4/20\n",
      "7/7 [==============================] - 4s 625ms/step - loss: 0.6471 - accuracy: 0.6000 - val_loss: 0.6613 - val_accuracy: 0.5741\n",
      "Epoch 5/20\n",
      "7/7 [==============================] - 4s 659ms/step - loss: 0.6337 - accuracy: 0.6000 - val_loss: 0.6611 - val_accuracy: 0.5741\n",
      "Epoch 6/20\n",
      "7/7 [==============================] - 5s 641ms/step - loss: 0.6000 - accuracy: 0.6047 - val_loss: 0.6279 - val_accuracy: 0.5741\n",
      "Epoch 7/20\n",
      "7/7 [==============================] - 4s 633ms/step - loss: 0.5507 - accuracy: 0.7023 - val_loss: 0.5674 - val_accuracy: 0.7037\n",
      "Epoch 8/20\n",
      "7/7 [==============================] - 5s 636ms/step - loss: 0.4849 - accuracy: 0.7674 - val_loss: 0.5072 - val_accuracy: 0.7593\n",
      "Epoch 9/20\n",
      "7/7 [==============================] - 5s 643ms/step - loss: 0.4670 - accuracy: 0.7814 - val_loss: 0.7556 - val_accuracy: 0.7222\n",
      "Epoch 10/20\n",
      "7/7 [==============================] - 5s 662ms/step - loss: 0.4590 - accuracy: 0.7860 - val_loss: 0.4513 - val_accuracy: 0.7593\n",
      "Epoch 11/20\n",
      "7/7 [==============================] - 4s 629ms/step - loss: 0.4447 - accuracy: 0.7674 - val_loss: 0.4439 - val_accuracy: 0.7963\n",
      "Epoch 12/20\n",
      "7/7 [==============================] - 5s 641ms/step - loss: 0.4525 - accuracy: 0.7488 - val_loss: 0.5035 - val_accuracy: 0.8148\n",
      "Epoch 13/20\n",
      "7/7 [==============================] - 5s 637ms/step - loss: 0.4099 - accuracy: 0.8233 - val_loss: 0.4623 - val_accuracy: 0.7407\n",
      "Epoch 14/20\n",
      "7/7 [==============================] - 5s 661ms/step - loss: 0.3830 - accuracy: 0.8140 - val_loss: 0.4947 - val_accuracy: 0.7593\n",
      "Epoch 15/20\n",
      "7/7 [==============================] - 5s 644ms/step - loss: 0.3410 - accuracy: 0.8605 - val_loss: 0.4399 - val_accuracy: 0.7593\n",
      "Epoch 16/20\n",
      "7/7 [==============================] - 5s 634ms/step - loss: 0.3275 - accuracy: 0.8233 - val_loss: 0.7087 - val_accuracy: 0.7037\n",
      "Epoch 17/20\n",
      "7/7 [==============================] - 5s 640ms/step - loss: 0.3385 - accuracy: 0.8372 - val_loss: 0.5552 - val_accuracy: 0.7963\n",
      "Epoch 18/20\n",
      "7/7 [==============================] - 4s 661ms/step - loss: 0.3953 - accuracy: 0.7860 - val_loss: 0.3367 - val_accuracy: 0.8333\n",
      "Epoch 19/20\n",
      "7/7 [==============================] - 4s 633ms/step - loss: 0.3478 - accuracy: 0.8651 - val_loss: 0.6308 - val_accuracy: 0.8148\n",
      "Epoch 20/20\n",
      "7/7 [==============================] - 4s 634ms/step - loss: 0.2787 - accuracy: 0.8930 - val_loss: 0.5799 - val_accuracy: 0.7778\n"
     ]
    }
   ],
   "source": [
    "history = model.fit(\n",
    "    train_generator,\n",
    "    epochs=20,\n",
    "    validation_data=test_generator,\n",
    ")"
   ]
  },
  {
   "cell_type": "code",
   "execution_count": null,
   "id": "719da684",
   "metadata": {},
   "outputs": [],
   "source": []
  },
  {
   "cell_type": "code",
   "execution_count": null,
   "id": "f639ef60",
   "metadata": {},
   "outputs": [],
   "source": []
  }
 ],
 "metadata": {
  "kernelspec": {
   "display_name": "Python 3 (ipykernel)",
   "language": "python",
   "name": "python3"
  },
  "language_info": {
   "codemirror_mode": {
    "name": "ipython",
    "version": 3
   },
   "file_extension": ".py",
   "mimetype": "text/x-python",
   "name": "python",
   "nbconvert_exporter": "python",
   "pygments_lexer": "ipython3",
   "version": "3.11.5"
  }
 },
 "nbformat": 4,
 "nbformat_minor": 5
}
