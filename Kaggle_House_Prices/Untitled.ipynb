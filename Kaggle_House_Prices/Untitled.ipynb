{
 "cells": [
  {
   "cell_type": "code",
   "execution_count": 1,
   "id": "60946e4a",
   "metadata": {},
   "outputs": [],
   "source": [
    "import pandas as pd\n",
    "\n",
    "train = pd.read_csv('train.csv')\n",
    "test = pd.read_csv('test.csv')\n",
    "test_ids = test['Id']"
   ]
  },
  {
   "cell_type": "code",
   "execution_count": 2,
   "id": "c5c291d2",
   "metadata": {},
   "outputs": [
    {
     "name": "stdout",
     "output_type": "stream",
     "text": [
      "Id \t 0\n",
      "MSSubClass \t 0\n",
      "MSZoning \t 0\n",
      "LotFrontage \t 259\n",
      "LotArea \t 0\n",
      "Street \t 0\n",
      "Alley \t 1369\n",
      "LotShape \t 0\n",
      "LandContour \t 0\n",
      "Utilities \t 0\n",
      "LotConfig \t 0\n",
      "LandSlope \t 0\n",
      "Neighborhood \t 0\n",
      "Condition1 \t 0\n",
      "Condition2 \t 0\n",
      "BldgType \t 0\n",
      "HouseStyle \t 0\n",
      "OverallQual \t 0\n",
      "OverallCond \t 0\n",
      "YearBuilt \t 0\n",
      "YearRemodAdd \t 0\n",
      "RoofStyle \t 0\n",
      "RoofMatl \t 0\n",
      "Exterior1st \t 0\n",
      "Exterior2nd \t 0\n",
      "MasVnrType \t 872\n",
      "MasVnrArea \t 8\n",
      "ExterQual \t 0\n",
      "ExterCond \t 0\n",
      "Foundation \t 0\n",
      "BsmtQual \t 37\n",
      "BsmtCond \t 37\n",
      "BsmtExposure \t 38\n",
      "BsmtFinType1 \t 37\n",
      "BsmtFinSF1 \t 0\n",
      "BsmtFinType2 \t 38\n",
      "BsmtFinSF2 \t 0\n",
      "BsmtUnfSF \t 0\n",
      "TotalBsmtSF \t 0\n",
      "Heating \t 0\n",
      "HeatingQC \t 0\n",
      "CentralAir \t 0\n",
      "Electrical \t 1\n",
      "1stFlrSF \t 0\n",
      "2ndFlrSF \t 0\n",
      "LowQualFinSF \t 0\n",
      "GrLivArea \t 0\n",
      "BsmtFullBath \t 0\n",
      "BsmtHalfBath \t 0\n",
      "FullBath \t 0\n",
      "HalfBath \t 0\n",
      "BedroomAbvGr \t 0\n",
      "KitchenAbvGr \t 0\n",
      "KitchenQual \t 0\n",
      "TotRmsAbvGrd \t 0\n",
      "Functional \t 0\n",
      "Fireplaces \t 0\n",
      "FireplaceQu \t 690\n",
      "GarageType \t 81\n",
      "GarageYrBlt \t 81\n",
      "GarageFinish \t 81\n",
      "GarageCars \t 0\n",
      "GarageArea \t 0\n",
      "GarageQual \t 81\n",
      "GarageCond \t 81\n",
      "PavedDrive \t 0\n",
      "WoodDeckSF \t 0\n",
      "OpenPorchSF \t 0\n",
      "EnclosedPorch \t 0\n",
      "3SsnPorch \t 0\n",
      "ScreenPorch \t 0\n",
      "PoolArea \t 0\n",
      "PoolQC \t 1453\n",
      "Fence \t 1179\n",
      "MiscFeature \t 1406\n",
      "MiscVal \t 0\n",
      "MoSold \t 0\n",
      "YrSold \t 0\n",
      "SaleType \t 0\n",
      "SaleCondition \t 0\n",
      "SalePrice \t 0\n"
     ]
    }
   ],
   "source": [
    "obj = train.isnull().sum()\n",
    "for key,value in obj.items():\n",
    "    print(key,\"\\t\",value)"
   ]
  },
  {
   "cell_type": "code",
   "execution_count": 3,
   "id": "2bbbfc9e",
   "metadata": {},
   "outputs": [],
   "source": [
    "from sklearn.preprocessing import LabelEncoder\n",
    "\n",
    "def clean(data):\n",
    "    # Removing cols\n",
    "    data.drop(columns=['Id', 'Alley', 'PoolQC', 'Fence', 'MiscFeature', 'FireplaceQu', 'MasVnrType', 'Utilities', 'Street', 'RoofMatl'] ,inplace=True)\n",
    "    \n",
    "    # Label Encoding\n",
    "    categorical_columns = data.select_dtypes(include=['object']).columns\n",
    "    le = LabelEncoder()\n",
    "    for col in categorical_columns:\n",
    "        data[col] = le.fit_transform(data[col])\n",
    "        \n",
    "    # Fill missing values\n",
    "    data = data.apply(lambda x: x.fillna(x.median()), axis=0)\n",
    "    \n",
    "    return data\n",
    "\n",
    "train = clean(train)\n",
    "test = clean(test)"
   ]
  },
  {
   "cell_type": "code",
   "execution_count": 4,
   "id": "1574763c",
   "metadata": {},
   "outputs": [],
   "source": [
    "from scipy import stats\n",
    "\n",
    "z_threshold = 3\n",
    "z_scores = stats.zscore(train)\n",
    "\n",
    "outlier_rows = (z_scores > z_threshold).any(axis=1)\n",
    "\n",
    "train = train[~outlier_rows]"
   ]
  },
  {
   "cell_type": "code",
   "execution_count": 5,
   "id": "08c87cc2",
   "metadata": {},
   "outputs": [
    {
     "name": "stdout",
     "output_type": "stream",
     "text": [
      "MSSubClass \t -0.05519172261091853\n",
      "MSZoning \t -0.2722276988900108\n",
      "LotFrontage \t 0.39946168254953485\n",
      "LotArea \t 0.3774304616650363\n",
      "LotShape \t -0.23784203361820844\n",
      "LandContour \t 0.025047934956784108\n",
      "LotConfig \t -0.04860021726331374\n",
      "LandSlope \t nan\n",
      "Neighborhood \t 0.21316756999532543\n",
      "Condition1 \t 0.1920740539402635\n",
      "Condition2 \t nan\n",
      "BldgType \t -0.06678433348230782\n",
      "HouseStyle \t 0.19462595573645605\n",
      "OverallQual \t 0.8195085469126724\n",
      "OverallCond \t -0.18778347335281534\n",
      "YearBuilt \t 0.6502905220277794\n",
      "YearRemodAdd \t 0.5690966110101872\n",
      "RoofStyle \t 0.1413340238952136\n",
      "Exterior1st \t 0.17285938743506668\n",
      "Exterior2nd \t 0.18643337151677356\n",
      "MasVnrArea \t 0.42645902175425954\n",
      "ExterQual \t -0.6731612173768157\n",
      "ExterCond \t 0.1832086419369374\n",
      "Foundation \t 0.5225608493924087\n",
      "BsmtQual \t -0.6515476505298372\n",
      "BsmtCond \t 0.029431372304816256\n",
      "BsmtExposure \t -0.27285530198035757\n",
      "BsmtFinType1 \t -0.04143026058996591\n",
      "BsmtFinSF1 \t 0.3373186971380997\n",
      "BsmtFinType2 \t 0.0660689885240764\n",
      "BsmtFinSF2 \t -0.10297500878125743\n",
      "BsmtUnfSF \t 0.24137721106517837\n",
      "TotalBsmtSF \t 0.6339793482702448\n",
      "Heating \t 0.05161722278578265\n",
      "HeatingQC \t -0.4811833036066835\n",
      "CentralAir \t 0.24936813522592224\n",
      "Electrical \t 0.24860633037028812\n",
      "1stFlrSF \t 0.5988451010156383\n",
      "2ndFlrSF \t 0.29446982024133045\n",
      "LowQualFinSF \t -0.022091187471742452\n",
      "GrLivArea \t 0.7529306454459808\n",
      "BsmtFullBath \t 0.2163682917157682\n",
      "BsmtHalfBath \t nan\n",
      "FullBath \t 0.6702143980620384\n",
      "HalfBath \t 0.25924648708096343\n",
      "BedroomAbvGr \t 0.2536854140371595\n",
      "KitchenAbvGr \t nan\n",
      "KitchenQual \t -0.6388997540626031\n",
      "TotRmsAbvGrd \t 0.5942703938228113\n",
      "Functional \t 0.1479213076147644\n",
      "Fireplaces \t 0.4370308131025163\n",
      "GarageType \t -0.4908411845198061\n",
      "GarageYrBlt \t 0.5826083403025454\n",
      "GarageFinish \t -0.6010064043492737\n",
      "GarageCars \t 0.7144676807388781\n",
      "GarageArea \t 0.6893483192441549\n",
      "GarageQual \t 0.06271649684081856\n",
      "GarageCond \t 0.04748415301443853\n",
      "PavedDrive \t 0.2606725087155311\n",
      "WoodDeckSF \t 0.31231606438029774\n",
      "OpenPorchSF \t 0.3919640263285935\n",
      "EnclosedPorch \t -0.19986230920266362\n",
      "3SsnPorch \t nan\n",
      "ScreenPorch \t 0.008404834563699195\n",
      "PoolArea \t nan\n",
      "MiscVal \t -0.07744033039162916\n",
      "MoSold \t 0.07510301208518803\n",
      "YrSold \t -0.0143828538365065\n",
      "SaleType \t -0.05511071684891337\n",
      "SaleCondition \t 0.25593429088317254\n"
     ]
    }
   ],
   "source": [
    "correlation = train.corr()['SalePrice'].drop('SalePrice')\n",
    "\n",
    "for key,value in correlation.items():\n",
    "    print(key,\"\\t\",value)"
   ]
  },
  {
   "cell_type": "code",
   "execution_count": 6,
   "id": "aba5fa5d",
   "metadata": {},
   "outputs": [
    {
     "name": "stdout",
     "output_type": "stream",
     "text": [
      "MSSubClass       0.055192\n",
      "MSZoning         0.272228\n",
      "LotShape         0.237842\n",
      "LandContour      0.025048\n",
      "LotConfig        0.048600\n",
      "Neighborhood     0.213168\n",
      "Condition1       0.192074\n",
      "BldgType         0.066784\n",
      "HouseStyle       0.194626\n",
      "OverallCond      0.187783\n",
      "RoofStyle        0.141334\n",
      "Exterior1st      0.172859\n",
      "Exterior2nd      0.186433\n",
      "ExterCond        0.183209\n",
      "BsmtCond         0.029431\n",
      "BsmtExposure     0.272855\n",
      "BsmtFinType1     0.041430\n",
      "BsmtFinType2     0.066069\n",
      "BsmtFinSF2       0.102975\n",
      "BsmtUnfSF        0.241377\n",
      "Heating          0.051617\n",
      "CentralAir       0.249368\n",
      "Electrical       0.248606\n",
      "2ndFlrSF         0.294470\n",
      "LowQualFinSF     0.022091\n",
      "BsmtFullBath     0.216368\n",
      "HalfBath         0.259246\n",
      "BedroomAbvGr     0.253685\n",
      "Functional       0.147921\n",
      "GarageQual       0.062716\n",
      "GarageCond       0.047484\n",
      "PavedDrive       0.260673\n",
      "EnclosedPorch    0.199862\n",
      "ScreenPorch      0.008405\n",
      "MiscVal          0.077440\n",
      "MoSold           0.075103\n",
      "YrSold           0.014383\n",
      "SaleType         0.055111\n",
      "SaleCondition    0.255934\n",
      "Name: SalePrice, dtype: float64\n"
     ]
    }
   ],
   "source": [
    "corr_matrix = train.corr()\n",
    "\n",
    "price_corr = corr_matrix['SalePrice'].abs()\n",
    "\n",
    "low_corr_cols = price_corr[price_corr < 0.3]\n",
    "\n",
    "print(low_corr_cols)"
   ]
  },
  {
   "cell_type": "code",
   "execution_count": 7,
   "id": "9b6be752",
   "metadata": {},
   "outputs": [],
   "source": [
    "low_corr_cols = price_corr[price_corr < 0.3].index\n",
    "\n",
    "train.drop(columns=low_corr_cols, inplace=True)\n",
    "test.drop(columns=low_corr_cols, inplace=True)"
   ]
  },
  {
   "cell_type": "code",
   "execution_count": 8,
   "id": "cf2c9de5",
   "metadata": {},
   "outputs": [
    {
     "data": {
      "text/plain": [
       "(935, 32)"
      ]
     },
     "execution_count": 8,
     "metadata": {},
     "output_type": "execute_result"
    }
   ],
   "source": [
    "train.shape"
   ]
  },
  {
   "cell_type": "code",
   "execution_count": 9,
   "id": "495ce691",
   "metadata": {},
   "outputs": [],
   "source": [
    "train_y = train['SalePrice']\n",
    "train_x = train.drop('SalePrice', axis=1)"
   ]
  },
  {
   "cell_type": "code",
   "execution_count": 10,
   "id": "447dd207",
   "metadata": {},
   "outputs": [],
   "source": [
    "from sklearn.model_selection import train_test_split\n",
    "\n",
    "X_train, X_val, y_train, y_val = train_test_split(train_x, train_y, test_size=0.15, random_state=42)"
   ]
  },
  {
   "cell_type": "code",
   "execution_count": 11,
   "id": "40e16e33",
   "metadata": {},
   "outputs": [
    {
     "data": {
      "text/html": [
       "<style>#sk-container-id-1 {color: black;}#sk-container-id-1 pre{padding: 0;}#sk-container-id-1 div.sk-toggleable {background-color: white;}#sk-container-id-1 label.sk-toggleable__label {cursor: pointer;display: block;width: 100%;margin-bottom: 0;padding: 0.3em;box-sizing: border-box;text-align: center;}#sk-container-id-1 label.sk-toggleable__label-arrow:before {content: \"▸\";float: left;margin-right: 0.25em;color: #696969;}#sk-container-id-1 label.sk-toggleable__label-arrow:hover:before {color: black;}#sk-container-id-1 div.sk-estimator:hover label.sk-toggleable__label-arrow:before {color: black;}#sk-container-id-1 div.sk-toggleable__content {max-height: 0;max-width: 0;overflow: hidden;text-align: left;background-color: #f0f8ff;}#sk-container-id-1 div.sk-toggleable__content pre {margin: 0.2em;color: black;border-radius: 0.25em;background-color: #f0f8ff;}#sk-container-id-1 input.sk-toggleable__control:checked~div.sk-toggleable__content {max-height: 200px;max-width: 100%;overflow: auto;}#sk-container-id-1 input.sk-toggleable__control:checked~label.sk-toggleable__label-arrow:before {content: \"▾\";}#sk-container-id-1 div.sk-estimator input.sk-toggleable__control:checked~label.sk-toggleable__label {background-color: #d4ebff;}#sk-container-id-1 div.sk-label input.sk-toggleable__control:checked~label.sk-toggleable__label {background-color: #d4ebff;}#sk-container-id-1 input.sk-hidden--visually {border: 0;clip: rect(1px 1px 1px 1px);clip: rect(1px, 1px, 1px, 1px);height: 1px;margin: -1px;overflow: hidden;padding: 0;position: absolute;width: 1px;}#sk-container-id-1 div.sk-estimator {font-family: monospace;background-color: #f0f8ff;border: 1px dotted black;border-radius: 0.25em;box-sizing: border-box;margin-bottom: 0.5em;}#sk-container-id-1 div.sk-estimator:hover {background-color: #d4ebff;}#sk-container-id-1 div.sk-parallel-item::after {content: \"\";width: 100%;border-bottom: 1px solid gray;flex-grow: 1;}#sk-container-id-1 div.sk-label:hover label.sk-toggleable__label {background-color: #d4ebff;}#sk-container-id-1 div.sk-serial::before {content: \"\";position: absolute;border-left: 1px solid gray;box-sizing: border-box;top: 0;bottom: 0;left: 50%;z-index: 0;}#sk-container-id-1 div.sk-serial {display: flex;flex-direction: column;align-items: center;background-color: white;padding-right: 0.2em;padding-left: 0.2em;position: relative;}#sk-container-id-1 div.sk-item {position: relative;z-index: 1;}#sk-container-id-1 div.sk-parallel {display: flex;align-items: stretch;justify-content: center;background-color: white;position: relative;}#sk-container-id-1 div.sk-item::before, #sk-container-id-1 div.sk-parallel-item::before {content: \"\";position: absolute;border-left: 1px solid gray;box-sizing: border-box;top: 0;bottom: 0;left: 50%;z-index: -1;}#sk-container-id-1 div.sk-parallel-item {display: flex;flex-direction: column;z-index: 1;position: relative;background-color: white;}#sk-container-id-1 div.sk-parallel-item:first-child::after {align-self: flex-end;width: 50%;}#sk-container-id-1 div.sk-parallel-item:last-child::after {align-self: flex-start;width: 50%;}#sk-container-id-1 div.sk-parallel-item:only-child::after {width: 0;}#sk-container-id-1 div.sk-dashed-wrapped {border: 1px dashed gray;margin: 0 0.4em 0.5em 0.4em;box-sizing: border-box;padding-bottom: 0.4em;background-color: white;}#sk-container-id-1 div.sk-label label {font-family: monospace;font-weight: bold;display: inline-block;line-height: 1.2em;}#sk-container-id-1 div.sk-label-container {text-align: center;}#sk-container-id-1 div.sk-container {/* jupyter's `normalize.less` sets `[hidden] { display: none; }` but bootstrap.min.css set `[hidden] { display: none !important; }` so we also need the `!important` here to be able to override the default hidden behavior on the sphinx rendered scikit-learn.org. See: https://github.com/scikit-learn/scikit-learn/issues/21755 */display: inline-block !important;position: relative;}#sk-container-id-1 div.sk-text-repr-fallback {display: none;}</style><div id=\"sk-container-id-1\" class=\"sk-top-container\"><div class=\"sk-text-repr-fallback\"><pre>XGBRegressor(alpha=10, base_score=None, booster=None, callbacks=None,\n",
       "             colsample_bylevel=None, colsample_bynode=None,\n",
       "             colsample_bytree=0.3, device=None, early_stopping_rounds=None,\n",
       "             enable_categorical=False, eval_metric=None, feature_types=None,\n",
       "             gamma=None, grow_policy=None, importance_type=None,\n",
       "             interaction_constraints=None, learning_rate=0.1, max_bin=None,\n",
       "             max_cat_threshold=None, max_cat_to_onehot=None,\n",
       "             max_delta_step=None, max_depth=5, max_leaves=None,\n",
       "             min_child_weight=None, missing=nan, monotone_constraints=None,\n",
       "             multi_strategy=None, n_estimators=10, n_jobs=None,\n",
       "             num_parallel_tree=None, ...)</pre><b>In a Jupyter environment, please rerun this cell to show the HTML representation or trust the notebook. <br />On GitHub, the HTML representation is unable to render, please try loading this page with nbviewer.org.</b></div><div class=\"sk-container\" hidden><div class=\"sk-item\"><div class=\"sk-estimator sk-toggleable\"><input class=\"sk-toggleable__control sk-hidden--visually\" id=\"sk-estimator-id-1\" type=\"checkbox\" checked><label for=\"sk-estimator-id-1\" class=\"sk-toggleable__label sk-toggleable__label-arrow\">XGBRegressor</label><div class=\"sk-toggleable__content\"><pre>XGBRegressor(alpha=10, base_score=None, booster=None, callbacks=None,\n",
       "             colsample_bylevel=None, colsample_bynode=None,\n",
       "             colsample_bytree=0.3, device=None, early_stopping_rounds=None,\n",
       "             enable_categorical=False, eval_metric=None, feature_types=None,\n",
       "             gamma=None, grow_policy=None, importance_type=None,\n",
       "             interaction_constraints=None, learning_rate=0.1, max_bin=None,\n",
       "             max_cat_threshold=None, max_cat_to_onehot=None,\n",
       "             max_delta_step=None, max_depth=5, max_leaves=None,\n",
       "             min_child_weight=None, missing=nan, monotone_constraints=None,\n",
       "             multi_strategy=None, n_estimators=10, n_jobs=None,\n",
       "             num_parallel_tree=None, ...)</pre></div></div></div></div></div>"
      ],
      "text/plain": [
       "XGBRegressor(alpha=10, base_score=None, booster=None, callbacks=None,\n",
       "             colsample_bylevel=None, colsample_bynode=None,\n",
       "             colsample_bytree=0.3, device=None, early_stopping_rounds=None,\n",
       "             enable_categorical=False, eval_metric=None, feature_types=None,\n",
       "             gamma=None, grow_policy=None, importance_type=None,\n",
       "             interaction_constraints=None, learning_rate=0.1, max_bin=None,\n",
       "             max_cat_threshold=None, max_cat_to_onehot=None,\n",
       "             max_delta_step=None, max_depth=5, max_leaves=None,\n",
       "             min_child_weight=None, missing=nan, monotone_constraints=None,\n",
       "             multi_strategy=None, n_estimators=10, n_jobs=None,\n",
       "             num_parallel_tree=None, ...)"
      ]
     },
     "execution_count": 11,
     "metadata": {},
     "output_type": "execute_result"
    }
   ],
   "source": [
    "import xgboost as xgb\n",
    "\n",
    "xg_reg = xgb.XGBRegressor(objective='reg:squarederror', colsample_bytree=0.3, learning_rate=0.1,\n",
    "                          max_depth=5, alpha=10, n_estimators=10)\n",
    "\n",
    "xg_reg.fit(train_x, train_y)"
   ]
  },
  {
   "cell_type": "markdown",
   "id": "7de4d071",
   "metadata": {},
   "source": [
    "from sklearn.metrics import mean_squared_error, r2_score\n",
    "import numpy as np\n",
    "\n",
    "y_pred = xg_reg.predict(X_val)\n",
    "\n",
    "print(np.sqrt(mean_squared_error(y_val, y_pred)))\n",
    "print(r2_score(y_val, y_pred))"
   ]
  },
  {
   "cell_type": "code",
   "execution_count": 12,
   "id": "ac37fb3d",
   "metadata": {},
   "outputs": [],
   "source": [
    "pred = xg_reg.predict(test)\n",
    "\n",
    "df = pd.DataFrame({'Id': test_ids.values,\n",
    "                   'SalePrice' : pred\n",
    "                  })\n",
    "\n",
    "df.to_csv('submission.csv', index=False)"
   ]
  },
  {
   "cell_type": "code",
   "execution_count": null,
   "id": "45cb77e5",
   "metadata": {},
   "outputs": [],
   "source": []
  }
 ],
 "metadata": {
  "kernelspec": {
   "display_name": "Python 3 (ipykernel)",
   "language": "python",
   "name": "python3"
  },
  "language_info": {
   "codemirror_mode": {
    "name": "ipython",
    "version": 3
   },
   "file_extension": ".py",
   "mimetype": "text/x-python",
   "name": "python",
   "nbconvert_exporter": "python",
   "pygments_lexer": "ipython3",
   "version": "3.11.5"
  }
 },
 "nbformat": 4,
 "nbformat_minor": 5
}
